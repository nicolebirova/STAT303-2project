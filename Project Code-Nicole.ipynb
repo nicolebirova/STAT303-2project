{
 "cells": [
  {
   "cell_type": "code",
   "execution_count": 11,
   "id": "e9589ca5",
   "metadata": {},
   "outputs": [],
   "source": [
    "import pandas as pd\n",
    "import numpy as np\n",
    "import seaborn as sns\n",
    "import matplotlib.pyplot as plt"
   ]
  },
  {
   "cell_type": "code",
   "execution_count": 12,
   "id": "f5776442",
   "metadata": {},
   "outputs": [
    {
     "name": "stderr",
     "output_type": "stream",
     "text": [
      "/Users/nbirova/opt/anaconda3/lib/python3.9/site-packages/IPython/core/interactiveshell.py:3444: DtypeWarning: Columns (47,73) have mixed types.Specify dtype option on import or set low_memory=False.\n",
      "  exec(code_obj, self.user_global_ns, self.user_ns)\n"
     ]
    }
   ],
   "source": [
    "data = pd.read_csv(\"bottle.csv\")"
   ]
  },
  {
   "cell_type": "code",
   "execution_count": 13,
   "id": "157f8ebf",
   "metadata": {},
   "outputs": [
    {
     "data": {
      "text/plain": [
       "(864863, 74)"
      ]
     },
     "execution_count": 13,
     "metadata": {},
     "output_type": "execute_result"
    }
   ],
   "source": [
    "data.shape"
   ]
  },
  {
   "cell_type": "code",
   "execution_count": 14,
   "id": "41b99efb",
   "metadata": {},
   "outputs": [
    {
     "data": {
      "text/html": [
       "<div>\n",
       "<style scoped>\n",
       "    .dataframe tbody tr th:only-of-type {\n",
       "        vertical-align: middle;\n",
       "    }\n",
       "\n",
       "    .dataframe tbody tr th {\n",
       "        vertical-align: top;\n",
       "    }\n",
       "\n",
       "    .dataframe thead th {\n",
       "        text-align: right;\n",
       "    }\n",
       "</style>\n",
       "<table border=\"1\" class=\"dataframe\">\n",
       "  <thead>\n",
       "    <tr style=\"text-align: right;\">\n",
       "      <th></th>\n",
       "      <th>Cst_Cnt</th>\n",
       "      <th>Btl_Cnt</th>\n",
       "      <th>Sta_ID</th>\n",
       "      <th>Depth_ID</th>\n",
       "      <th>Depthm</th>\n",
       "      <th>T_degC</th>\n",
       "      <th>Salnty</th>\n",
       "      <th>O2ml_L</th>\n",
       "      <th>STheta</th>\n",
       "      <th>O2Sat</th>\n",
       "      <th>...</th>\n",
       "      <th>R_PHAEO</th>\n",
       "      <th>R_PRES</th>\n",
       "      <th>R_SAMP</th>\n",
       "      <th>DIC1</th>\n",
       "      <th>DIC2</th>\n",
       "      <th>TA1</th>\n",
       "      <th>TA2</th>\n",
       "      <th>pH2</th>\n",
       "      <th>pH1</th>\n",
       "      <th>DIC Quality Comment</th>\n",
       "    </tr>\n",
       "  </thead>\n",
       "  <tbody>\n",
       "    <tr>\n",
       "      <th>0</th>\n",
       "      <td>1</td>\n",
       "      <td>1</td>\n",
       "      <td>054.0 056.0</td>\n",
       "      <td>19-4903CR-HY-060-0930-05400560-0000A-3</td>\n",
       "      <td>0</td>\n",
       "      <td>10.50</td>\n",
       "      <td>33.440</td>\n",
       "      <td>NaN</td>\n",
       "      <td>25.649</td>\n",
       "      <td>NaN</td>\n",
       "      <td>...</td>\n",
       "      <td>NaN</td>\n",
       "      <td>0</td>\n",
       "      <td>NaN</td>\n",
       "      <td>NaN</td>\n",
       "      <td>NaN</td>\n",
       "      <td>NaN</td>\n",
       "      <td>NaN</td>\n",
       "      <td>NaN</td>\n",
       "      <td>NaN</td>\n",
       "      <td>NaN</td>\n",
       "    </tr>\n",
       "    <tr>\n",
       "      <th>1</th>\n",
       "      <td>1</td>\n",
       "      <td>2</td>\n",
       "      <td>054.0 056.0</td>\n",
       "      <td>19-4903CR-HY-060-0930-05400560-0008A-3</td>\n",
       "      <td>8</td>\n",
       "      <td>10.46</td>\n",
       "      <td>33.440</td>\n",
       "      <td>NaN</td>\n",
       "      <td>25.656</td>\n",
       "      <td>NaN</td>\n",
       "      <td>...</td>\n",
       "      <td>NaN</td>\n",
       "      <td>8</td>\n",
       "      <td>NaN</td>\n",
       "      <td>NaN</td>\n",
       "      <td>NaN</td>\n",
       "      <td>NaN</td>\n",
       "      <td>NaN</td>\n",
       "      <td>NaN</td>\n",
       "      <td>NaN</td>\n",
       "      <td>NaN</td>\n",
       "    </tr>\n",
       "    <tr>\n",
       "      <th>2</th>\n",
       "      <td>1</td>\n",
       "      <td>3</td>\n",
       "      <td>054.0 056.0</td>\n",
       "      <td>19-4903CR-HY-060-0930-05400560-0010A-7</td>\n",
       "      <td>10</td>\n",
       "      <td>10.46</td>\n",
       "      <td>33.437</td>\n",
       "      <td>NaN</td>\n",
       "      <td>25.654</td>\n",
       "      <td>NaN</td>\n",
       "      <td>...</td>\n",
       "      <td>NaN</td>\n",
       "      <td>10</td>\n",
       "      <td>NaN</td>\n",
       "      <td>NaN</td>\n",
       "      <td>NaN</td>\n",
       "      <td>NaN</td>\n",
       "      <td>NaN</td>\n",
       "      <td>NaN</td>\n",
       "      <td>NaN</td>\n",
       "      <td>NaN</td>\n",
       "    </tr>\n",
       "    <tr>\n",
       "      <th>3</th>\n",
       "      <td>1</td>\n",
       "      <td>4</td>\n",
       "      <td>054.0 056.0</td>\n",
       "      <td>19-4903CR-HY-060-0930-05400560-0019A-3</td>\n",
       "      <td>19</td>\n",
       "      <td>10.45</td>\n",
       "      <td>33.420</td>\n",
       "      <td>NaN</td>\n",
       "      <td>25.643</td>\n",
       "      <td>NaN</td>\n",
       "      <td>...</td>\n",
       "      <td>NaN</td>\n",
       "      <td>19</td>\n",
       "      <td>NaN</td>\n",
       "      <td>NaN</td>\n",
       "      <td>NaN</td>\n",
       "      <td>NaN</td>\n",
       "      <td>NaN</td>\n",
       "      <td>NaN</td>\n",
       "      <td>NaN</td>\n",
       "      <td>NaN</td>\n",
       "    </tr>\n",
       "    <tr>\n",
       "      <th>4</th>\n",
       "      <td>1</td>\n",
       "      <td>5</td>\n",
       "      <td>054.0 056.0</td>\n",
       "      <td>19-4903CR-HY-060-0930-05400560-0020A-7</td>\n",
       "      <td>20</td>\n",
       "      <td>10.45</td>\n",
       "      <td>33.421</td>\n",
       "      <td>NaN</td>\n",
       "      <td>25.643</td>\n",
       "      <td>NaN</td>\n",
       "      <td>...</td>\n",
       "      <td>NaN</td>\n",
       "      <td>20</td>\n",
       "      <td>NaN</td>\n",
       "      <td>NaN</td>\n",
       "      <td>NaN</td>\n",
       "      <td>NaN</td>\n",
       "      <td>NaN</td>\n",
       "      <td>NaN</td>\n",
       "      <td>NaN</td>\n",
       "      <td>NaN</td>\n",
       "    </tr>\n",
       "  </tbody>\n",
       "</table>\n",
       "<p>5 rows × 74 columns</p>\n",
       "</div>"
      ],
      "text/plain": [
       "   Cst_Cnt  Btl_Cnt       Sta_ID                                Depth_ID  \\\n",
       "0        1        1  054.0 056.0  19-4903CR-HY-060-0930-05400560-0000A-3   \n",
       "1        1        2  054.0 056.0  19-4903CR-HY-060-0930-05400560-0008A-3   \n",
       "2        1        3  054.0 056.0  19-4903CR-HY-060-0930-05400560-0010A-7   \n",
       "3        1        4  054.0 056.0  19-4903CR-HY-060-0930-05400560-0019A-3   \n",
       "4        1        5  054.0 056.0  19-4903CR-HY-060-0930-05400560-0020A-7   \n",
       "\n",
       "   Depthm  T_degC  Salnty  O2ml_L  STheta  O2Sat  ...  R_PHAEO  R_PRES  \\\n",
       "0       0   10.50  33.440     NaN  25.649    NaN  ...      NaN       0   \n",
       "1       8   10.46  33.440     NaN  25.656    NaN  ...      NaN       8   \n",
       "2      10   10.46  33.437     NaN  25.654    NaN  ...      NaN      10   \n",
       "3      19   10.45  33.420     NaN  25.643    NaN  ...      NaN      19   \n",
       "4      20   10.45  33.421     NaN  25.643    NaN  ...      NaN      20   \n",
       "\n",
       "   R_SAMP  DIC1  DIC2  TA1  TA2  pH2  pH1  DIC Quality Comment  \n",
       "0     NaN   NaN   NaN  NaN  NaN  NaN  NaN                  NaN  \n",
       "1     NaN   NaN   NaN  NaN  NaN  NaN  NaN                  NaN  \n",
       "2     NaN   NaN   NaN  NaN  NaN  NaN  NaN                  NaN  \n",
       "3     NaN   NaN   NaN  NaN  NaN  NaN  NaN                  NaN  \n",
       "4     NaN   NaN   NaN  NaN  NaN  NaN  NaN                  NaN  \n",
       "\n",
       "[5 rows x 74 columns]"
      ]
     },
     "execution_count": 14,
     "metadata": {},
     "output_type": "execute_result"
    }
   ],
   "source": [
    "data.head()"
   ]
  },
  {
   "cell_type": "code",
   "execution_count": 15,
   "id": "9c440099",
   "metadata": {},
   "outputs": [],
   "source": [
    "num_data = data.loc[:,'Depthm':'O2Satq']"
   ]
  },
  {
   "cell_type": "code",
   "execution_count": 16,
   "id": "56a78bf4",
   "metadata": {},
   "outputs": [
    {
     "data": {
      "text/plain": [
       "0     0\n",
       "1     8\n",
       "2    10\n",
       "3    19\n",
       "4    20\n",
       "Name: R_PRES, dtype: int64"
      ]
     },
     "execution_count": 16,
     "metadata": {},
     "output_type": "execute_result"
    }
   ],
   "source": [
    "df2 = data.loc[:,'R_PRES']\n",
    "df2.head()"
   ]
  },
  {
   "cell_type": "code",
   "execution_count": 17,
   "id": "9ea83af9",
   "metadata": {},
   "outputs": [],
   "source": [
    "num_data['R_PRES'] = df2"
   ]
  },
  {
   "cell_type": "code",
   "execution_count": 18,
   "id": "bcb35e38",
   "metadata": {},
   "outputs": [
    {
     "data": {
      "text/html": [
       "<div>\n",
       "<style scoped>\n",
       "    .dataframe tbody tr th:only-of-type {\n",
       "        vertical-align: middle;\n",
       "    }\n",
       "\n",
       "    .dataframe tbody tr th {\n",
       "        vertical-align: top;\n",
       "    }\n",
       "\n",
       "    .dataframe thead th {\n",
       "        text-align: right;\n",
       "    }\n",
       "</style>\n",
       "<table border=\"1\" class=\"dataframe\">\n",
       "  <thead>\n",
       "    <tr style=\"text-align: right;\">\n",
       "      <th></th>\n",
       "      <th>Depthm</th>\n",
       "      <th>T_degC</th>\n",
       "      <th>Salnty</th>\n",
       "      <th>O2ml_L</th>\n",
       "      <th>STheta</th>\n",
       "      <th>O2Sat</th>\n",
       "      <th>Oxy_µmol/Kg</th>\n",
       "      <th>BtlNum</th>\n",
       "      <th>RecInd</th>\n",
       "      <th>T_prec</th>\n",
       "      <th>T_qual</th>\n",
       "      <th>S_prec</th>\n",
       "      <th>S_qual</th>\n",
       "      <th>P_qual</th>\n",
       "      <th>O_qual</th>\n",
       "      <th>SThtaq</th>\n",
       "      <th>O2Satq</th>\n",
       "      <th>R_PRES</th>\n",
       "    </tr>\n",
       "  </thead>\n",
       "  <tbody>\n",
       "    <tr>\n",
       "      <th>0</th>\n",
       "      <td>0</td>\n",
       "      <td>10.50</td>\n",
       "      <td>33.440</td>\n",
       "      <td>NaN</td>\n",
       "      <td>25.649</td>\n",
       "      <td>NaN</td>\n",
       "      <td>NaN</td>\n",
       "      <td>NaN</td>\n",
       "      <td>3</td>\n",
       "      <td>1.0</td>\n",
       "      <td>NaN</td>\n",
       "      <td>2.0</td>\n",
       "      <td>NaN</td>\n",
       "      <td>9.0</td>\n",
       "      <td>9.0</td>\n",
       "      <td>NaN</td>\n",
       "      <td>9.0</td>\n",
       "      <td>0</td>\n",
       "    </tr>\n",
       "    <tr>\n",
       "      <th>1</th>\n",
       "      <td>8</td>\n",
       "      <td>10.46</td>\n",
       "      <td>33.440</td>\n",
       "      <td>NaN</td>\n",
       "      <td>25.656</td>\n",
       "      <td>NaN</td>\n",
       "      <td>NaN</td>\n",
       "      <td>NaN</td>\n",
       "      <td>3</td>\n",
       "      <td>2.0</td>\n",
       "      <td>NaN</td>\n",
       "      <td>2.0</td>\n",
       "      <td>NaN</td>\n",
       "      <td>9.0</td>\n",
       "      <td>9.0</td>\n",
       "      <td>NaN</td>\n",
       "      <td>9.0</td>\n",
       "      <td>8</td>\n",
       "    </tr>\n",
       "    <tr>\n",
       "      <th>2</th>\n",
       "      <td>10</td>\n",
       "      <td>10.46</td>\n",
       "      <td>33.437</td>\n",
       "      <td>NaN</td>\n",
       "      <td>25.654</td>\n",
       "      <td>NaN</td>\n",
       "      <td>NaN</td>\n",
       "      <td>NaN</td>\n",
       "      <td>7</td>\n",
       "      <td>2.0</td>\n",
       "      <td>NaN</td>\n",
       "      <td>3.0</td>\n",
       "      <td>NaN</td>\n",
       "      <td>9.0</td>\n",
       "      <td>9.0</td>\n",
       "      <td>NaN</td>\n",
       "      <td>9.0</td>\n",
       "      <td>10</td>\n",
       "    </tr>\n",
       "    <tr>\n",
       "      <th>3</th>\n",
       "      <td>19</td>\n",
       "      <td>10.45</td>\n",
       "      <td>33.420</td>\n",
       "      <td>NaN</td>\n",
       "      <td>25.643</td>\n",
       "      <td>NaN</td>\n",
       "      <td>NaN</td>\n",
       "      <td>NaN</td>\n",
       "      <td>3</td>\n",
       "      <td>2.0</td>\n",
       "      <td>NaN</td>\n",
       "      <td>2.0</td>\n",
       "      <td>NaN</td>\n",
       "      <td>9.0</td>\n",
       "      <td>9.0</td>\n",
       "      <td>NaN</td>\n",
       "      <td>9.0</td>\n",
       "      <td>19</td>\n",
       "    </tr>\n",
       "    <tr>\n",
       "      <th>4</th>\n",
       "      <td>20</td>\n",
       "      <td>10.45</td>\n",
       "      <td>33.421</td>\n",
       "      <td>NaN</td>\n",
       "      <td>25.643</td>\n",
       "      <td>NaN</td>\n",
       "      <td>NaN</td>\n",
       "      <td>NaN</td>\n",
       "      <td>7</td>\n",
       "      <td>2.0</td>\n",
       "      <td>NaN</td>\n",
       "      <td>3.0</td>\n",
       "      <td>NaN</td>\n",
       "      <td>9.0</td>\n",
       "      <td>9.0</td>\n",
       "      <td>NaN</td>\n",
       "      <td>9.0</td>\n",
       "      <td>20</td>\n",
       "    </tr>\n",
       "  </tbody>\n",
       "</table>\n",
       "</div>"
      ],
      "text/plain": [
       "   Depthm  T_degC  Salnty  O2ml_L  STheta  O2Sat  Oxy_µmol/Kg  BtlNum  RecInd  \\\n",
       "0       0   10.50  33.440     NaN  25.649    NaN          NaN     NaN       3   \n",
       "1       8   10.46  33.440     NaN  25.656    NaN          NaN     NaN       3   \n",
       "2      10   10.46  33.437     NaN  25.654    NaN          NaN     NaN       7   \n",
       "3      19   10.45  33.420     NaN  25.643    NaN          NaN     NaN       3   \n",
       "4      20   10.45  33.421     NaN  25.643    NaN          NaN     NaN       7   \n",
       "\n",
       "   T_prec  T_qual  S_prec  S_qual  P_qual  O_qual  SThtaq  O2Satq  R_PRES  \n",
       "0     1.0     NaN     2.0     NaN     9.0     9.0     NaN     9.0       0  \n",
       "1     2.0     NaN     2.0     NaN     9.0     9.0     NaN     9.0       8  \n",
       "2     2.0     NaN     3.0     NaN     9.0     9.0     NaN     9.0      10  \n",
       "3     2.0     NaN     2.0     NaN     9.0     9.0     NaN     9.0      19  \n",
       "4     2.0     NaN     3.0     NaN     9.0     9.0     NaN     9.0      20  "
      ]
     },
     "execution_count": 18,
     "metadata": {},
     "output_type": "execute_result"
    }
   ],
   "source": [
    "num_data.head()"
   ]
  },
  {
   "cell_type": "code",
   "execution_count": 19,
   "id": "d133b6c0",
   "metadata": {},
   "outputs": [],
   "source": [
    "num_data.drop(['Oxy_µmol/Kg', 'BtlNum', 'RecInd', 'T_prec', 'T_qual', 'S_prec', 'S_qual', 'O2Satq',  'P_qual','O_qual','SThtaq','O2Sat'], axis= 1, inplace= True)"
   ]
  },
  {
   "cell_type": "code",
   "execution_count": 20,
   "id": "47fa078c",
   "metadata": {},
   "outputs": [
    {
     "data": {
      "text/html": [
       "<div>\n",
       "<style scoped>\n",
       "    .dataframe tbody tr th:only-of-type {\n",
       "        vertical-align: middle;\n",
       "    }\n",
       "\n",
       "    .dataframe tbody tr th {\n",
       "        vertical-align: top;\n",
       "    }\n",
       "\n",
       "    .dataframe thead th {\n",
       "        text-align: right;\n",
       "    }\n",
       "</style>\n",
       "<table border=\"1\" class=\"dataframe\">\n",
       "  <thead>\n",
       "    <tr style=\"text-align: right;\">\n",
       "      <th></th>\n",
       "      <th>Depthm</th>\n",
       "      <th>T_degC</th>\n",
       "      <th>Salnty</th>\n",
       "      <th>O2ml_L</th>\n",
       "      <th>STheta</th>\n",
       "      <th>R_PRES</th>\n",
       "    </tr>\n",
       "  </thead>\n",
       "  <tbody>\n",
       "    <tr>\n",
       "      <th>0</th>\n",
       "      <td>0</td>\n",
       "      <td>10.500</td>\n",
       "      <td>33.4400</td>\n",
       "      <td>NaN</td>\n",
       "      <td>25.64900</td>\n",
       "      <td>0</td>\n",
       "    </tr>\n",
       "    <tr>\n",
       "      <th>1</th>\n",
       "      <td>8</td>\n",
       "      <td>10.460</td>\n",
       "      <td>33.4400</td>\n",
       "      <td>NaN</td>\n",
       "      <td>25.65600</td>\n",
       "      <td>8</td>\n",
       "    </tr>\n",
       "    <tr>\n",
       "      <th>2</th>\n",
       "      <td>10</td>\n",
       "      <td>10.460</td>\n",
       "      <td>33.4370</td>\n",
       "      <td>NaN</td>\n",
       "      <td>25.65400</td>\n",
       "      <td>10</td>\n",
       "    </tr>\n",
       "    <tr>\n",
       "      <th>3</th>\n",
       "      <td>19</td>\n",
       "      <td>10.450</td>\n",
       "      <td>33.4200</td>\n",
       "      <td>NaN</td>\n",
       "      <td>25.64300</td>\n",
       "      <td>19</td>\n",
       "    </tr>\n",
       "    <tr>\n",
       "      <th>4</th>\n",
       "      <td>20</td>\n",
       "      <td>10.450</td>\n",
       "      <td>33.4210</td>\n",
       "      <td>NaN</td>\n",
       "      <td>25.64300</td>\n",
       "      <td>20</td>\n",
       "    </tr>\n",
       "    <tr>\n",
       "      <th>...</th>\n",
       "      <td>...</td>\n",
       "      <td>...</td>\n",
       "      <td>...</td>\n",
       "      <td>...</td>\n",
       "      <td>...</td>\n",
       "      <td>...</td>\n",
       "    </tr>\n",
       "    <tr>\n",
       "      <th>864858</th>\n",
       "      <td>0</td>\n",
       "      <td>18.744</td>\n",
       "      <td>33.4083</td>\n",
       "      <td>5.805</td>\n",
       "      <td>23.87055</td>\n",
       "      <td>0</td>\n",
       "    </tr>\n",
       "    <tr>\n",
       "      <th>864859</th>\n",
       "      <td>2</td>\n",
       "      <td>18.744</td>\n",
       "      <td>33.4083</td>\n",
       "      <td>5.805</td>\n",
       "      <td>23.87072</td>\n",
       "      <td>2</td>\n",
       "    </tr>\n",
       "    <tr>\n",
       "      <th>864860</th>\n",
       "      <td>5</td>\n",
       "      <td>18.692</td>\n",
       "      <td>33.4150</td>\n",
       "      <td>5.796</td>\n",
       "      <td>23.88911</td>\n",
       "      <td>5</td>\n",
       "    </tr>\n",
       "    <tr>\n",
       "      <th>864861</th>\n",
       "      <td>10</td>\n",
       "      <td>18.161</td>\n",
       "      <td>33.4062</td>\n",
       "      <td>5.816</td>\n",
       "      <td>24.01426</td>\n",
       "      <td>10</td>\n",
       "    </tr>\n",
       "    <tr>\n",
       "      <th>864862</th>\n",
       "      <td>15</td>\n",
       "      <td>17.533</td>\n",
       "      <td>33.3880</td>\n",
       "      <td>5.774</td>\n",
       "      <td>24.15297</td>\n",
       "      <td>15</td>\n",
       "    </tr>\n",
       "  </tbody>\n",
       "</table>\n",
       "<p>864863 rows × 6 columns</p>\n",
       "</div>"
      ],
      "text/plain": [
       "        Depthm  T_degC   Salnty  O2ml_L    STheta  R_PRES\n",
       "0            0  10.500  33.4400     NaN  25.64900       0\n",
       "1            8  10.460  33.4400     NaN  25.65600       8\n",
       "2           10  10.460  33.4370     NaN  25.65400      10\n",
       "3           19  10.450  33.4200     NaN  25.64300      19\n",
       "4           20  10.450  33.4210     NaN  25.64300      20\n",
       "...        ...     ...      ...     ...       ...     ...\n",
       "864858       0  18.744  33.4083   5.805  23.87055       0\n",
       "864859       2  18.744  33.4083   5.805  23.87072       2\n",
       "864860       5  18.692  33.4150   5.796  23.88911       5\n",
       "864861      10  18.161  33.4062   5.816  24.01426      10\n",
       "864862      15  17.533  33.3880   5.774  24.15297      15\n",
       "\n",
       "[864863 rows x 6 columns]"
      ]
     },
     "execution_count": 20,
     "metadata": {},
     "output_type": "execute_result"
    }
   ],
   "source": [
    "num_data"
   ]
  },
  {
   "cell_type": "code",
   "execution_count": 21,
   "id": "ba16cd86",
   "metadata": {},
   "outputs": [
    {
     "data": {
      "text/plain": [
       "Depthm         0\n",
       "T_degC     10963\n",
       "Salnty     47354\n",
       "O2ml_L    168662\n",
       "STheta     52689\n",
       "R_PRES         0\n",
       "dtype: int64"
      ]
     },
     "execution_count": 21,
     "metadata": {},
     "output_type": "execute_result"
    }
   ],
   "source": [
    "num_data.isnull().sum()"
   ]
  },
  {
   "cell_type": "code",
   "execution_count": 22,
   "id": "f962a06f",
   "metadata": {},
   "outputs": [
    {
     "name": "stderr",
     "output_type": "stream",
     "text": [
      "/Users/nbirova/opt/anaconda3/lib/python3.9/site-packages/seaborn/distributions.py:2619: FutureWarning: `distplot` is a deprecated function and will be removed in a future version. Please adapt your code to use either `displot` (a figure-level function with similar flexibility) or `histplot` (an axes-level function for histograms).\n",
      "  warnings.warn(msg, FutureWarning)\n",
      "/Users/nbirova/opt/anaconda3/lib/python3.9/site-packages/seaborn/distributions.py:2619: FutureWarning: `distplot` is a deprecated function and will be removed in a future version. Please adapt your code to use either `displot` (a figure-level function with similar flexibility) or `histplot` (an axes-level function for histograms).\n",
      "  warnings.warn(msg, FutureWarning)\n"
     ]
    },
    {
     "data": {
      "text/plain": [
       "Text(0.5, 1.0, 'Fillna with mean')"
      ]
     },
     "execution_count": 22,
     "metadata": {},
     "output_type": "execute_result"
    },
    {
     "data": {
      "image/png": "[encoded data removed]",
      "text/plain": [
       "<Figure size 432x288 with 2 Axes>"
      ]
     },
     "metadata": {
      "needs_background": "light"
     },
     "output_type": "display_data"
    }
   ],
   "source": [
    "fig, ax=plt.subplots(1,2)\n",
    "sns.distplot(num_data.T_degC.dropna(), ax=ax[0])\n",
    "ax[0].set_title(\"Dropna\")\n",
    "sns.distplot(num_data.T_degC.fillna(num_data.T_degC.mean()), ax=ax[1])\n",
    "ax[1].set_title(\"Fillna with mean\")"
   ]
  },
  {
   "cell_type": "code",
   "execution_count": 23,
   "id": "3d73d545",
   "metadata": {},
   "outputs": [
    {
     "data": {
      "text/plain": [
       "Text(0.5, 1.0, 'Fillna with mean')"
      ]
     },
     "execution_count": 23,
     "metadata": {},
     "output_type": "execute_result"
    },
    {
     "data": {
      "image/png": "[encoded data removed]",
      "text/plain": [
       "<Figure size 432x288 with 2 Axes>"
      ]
     },
     "metadata": {
      "needs_background": "light"
     },
     "output_type": "display_data"
    }
   ],
   "source": [
    "fig, ax=plt.subplots(1,2)\n",
    "sns.histplot(num_data.T_degC.dropna(), ax=ax[0])\n",
    "ax[0].set_title(\"Dropna\")\n",
    "sns.histplot(num_data.T_degC.fillna(num_data.T_degC.mean()), ax=ax[1])\n",
    "ax[1].set_title(\"Fillna with mean\")"
   ]
  },
  {
   "cell_type": "code",
   "execution_count": 24,
   "id": "c73c4080",
   "metadata": {},
   "outputs": [],
   "source": [
    "#decide to drop missing values for the temperature variable, to avoid spike by plugging in mean\n",
    "num_data = num_data[num_data['T_degC'].notna()]\n",
    "#decide to drop missing values from salinity variable, as it's dependent we don't care abt missing values\n",
    "num_data = num_data[num_data['Salnty'].notna()]\n"
   ]
  },
  {
   "cell_type": "code",
   "execution_count": 25,
   "id": "9ecd1916",
   "metadata": {},
   "outputs": [
    {
     "data": {
      "text/plain": [
       "Depthm         0\n",
       "T_degC         0\n",
       "Salnty         0\n",
       "O2ml_L    152758\n",
       "STheta      2073\n",
       "R_PRES         0\n",
       "dtype: int64"
      ]
     },
     "execution_count": 25,
     "metadata": {},
     "output_type": "execute_result"
    }
   ],
   "source": [
    "num_data.isnull().sum()"
   ]
  },
  {
   "cell_type": "code",
   "execution_count": 26,
   "id": "58d195d8",
   "metadata": {},
   "outputs": [
    {
     "name": "stderr",
     "output_type": "stream",
     "text": [
      "/Users/nbirova/opt/anaconda3/lib/python3.9/site-packages/seaborn/distributions.py:2619: FutureWarning: `distplot` is a deprecated function and will be removed in a future version. Please adapt your code to use either `displot` (a figure-level function with similar flexibility) or `histplot` (an axes-level function for histograms).\n",
      "  warnings.warn(msg, FutureWarning)\n",
      "/Users/nbirova/opt/anaconda3/lib/python3.9/site-packages/seaborn/distributions.py:2619: FutureWarning: `distplot` is a deprecated function and will be removed in a future version. Please adapt your code to use either `displot` (a figure-level function with similar flexibility) or `histplot` (an axes-level function for histograms).\n",
      "  warnings.warn(msg, FutureWarning)\n"
     ]
    },
    {
     "data": {
      "text/plain": [
       "Text(0.5, 1.0, 'Fillna with mean')"
      ]
     },
     "execution_count": 26,
     "metadata": {},
     "output_type": "execute_result"
    },
    {
     "data": {
      "image/png": "[encoded data removed]",
      "text/plain": [
       "<Figure size 432x288 with 2 Axes>"
      ]
     },
     "metadata": {
      "needs_background": "light"
     },
     "output_type": "display_data"
    }
   ],
   "source": [
    "fig, ax=plt.subplots(1,2)\n",
    "sns.distplot(num_data.O2ml_L.dropna(), ax=ax[0])\n",
    "ax[0].set_title(\"Dropna\")\n",
    "sns.distplot(num_data.O2ml_L.fillna(num_data.O2ml_L.mean()), ax=ax[1])\n",
    "ax[1].set_title(\"Fillna with mean\")"
   ]
  },
  {
   "cell_type": "code",
   "execution_count": 27,
   "id": "3d432caf",
   "metadata": {},
   "outputs": [
    {
     "data": {
      "text/plain": [
       "Text(0.5, 1.0, 'Fillna with mean')"
      ]
     },
     "execution_count": 27,
     "metadata": {},
     "output_type": "execute_result"
    },
    {
     "data": {
      "image/png": "[encoded data removed]",
      "text/plain": [
       "<Figure size 432x288 with 2 Axes>"
      ]
     },
     "metadata": {
      "needs_background": "light"
     },
     "output_type": "display_data"
    }
   ],
   "source": [
    "fig, ax=plt.subplots(1,2)\n",
    "sns.histplot(num_data.O2ml_L.dropna(), ax=ax[0])\n",
    "ax[0].set_title(\"Dropna\")\n",
    "sns.histplot(num_data.O2ml_L.fillna(num_data.O2ml_L.mean()), ax=ax[1])\n",
    "ax[1].set_title(\"Fillna with mean\")"
   ]
  },
  {
   "cell_type": "code",
   "execution_count": 28,
   "id": "e90d97aa",
   "metadata": {},
   "outputs": [],
   "source": [
    "#decide to drop to avoid spike for O2ml_L variable\n",
    "num_data = num_data[num_data['O2ml_L'].notna()]"
   ]
  },
  {
   "cell_type": "code",
   "execution_count": 29,
   "id": "7b078ffb",
   "metadata": {},
   "outputs": [
    {
     "name": "stderr",
     "output_type": "stream",
     "text": [
      "/Users/nbirova/opt/anaconda3/lib/python3.9/site-packages/seaborn/distributions.py:2619: FutureWarning: `distplot` is a deprecated function and will be removed in a future version. Please adapt your code to use either `displot` (a figure-level function with similar flexibility) or `histplot` (an axes-level function for histograms).\n",
      "  warnings.warn(msg, FutureWarning)\n",
      "/Users/nbirova/opt/anaconda3/lib/python3.9/site-packages/seaborn/distributions.py:2619: FutureWarning: `distplot` is a deprecated function and will be removed in a future version. Please adapt your code to use either `displot` (a figure-level function with similar flexibility) or `histplot` (an axes-level function for histograms).\n",
      "  warnings.warn(msg, FutureWarning)\n"
     ]
    },
    {
     "data": {
      "text/plain": [
       "Text(0.5, 1.0, 'Fillna with mean')"
      ]
     },
     "execution_count": 29,
     "metadata": {},
     "output_type": "execute_result"
    },
    {
     "data": {
      "image/png": "[encoded data removed]",
      "text/plain": [
       "<Figure size 432x288 with 2 Axes>"
      ]
     },
     "metadata": {
      "needs_background": "light"
     },
     "output_type": "display_data"
    }
   ],
   "source": [
    "fig, ax=plt.subplots(1,2)\n",
    "sns.distplot(num_data.STheta.dropna(), ax=ax[0])\n",
    "ax[0].set_title(\"Dropna\")\n",
    "sns.distplot(num_data.STheta.fillna(num_data.STheta.mean()), ax=ax[1])\n",
    "ax[1].set_title(\"Fillna with mean\")"
   ]
  },
  {
   "cell_type": "code",
   "execution_count": 30,
   "id": "1c1f1c49",
   "metadata": {},
   "outputs": [
    {
     "data": {
      "text/plain": [
       "Text(0.5, 1.0, 'Fillna with mean')"
      ]
     },
     "execution_count": 30,
     "metadata": {},
     "output_type": "execute_result"
    },
    {
     "data": {
      "image/png": "[encoded data removed]",
      "text/plain": [
       "<Figure size 432x288 with 2 Axes>"
      ]
     },
     "metadata": {
      "needs_background": "light"
     },
     "output_type": "display_data"
    }
   ],
   "source": [
    "fig, ax=plt.subplots(1,2)\n",
    "sns.histplot(num_data.STheta.dropna(), ax=ax[0])\n",
    "ax[0].set_title(\"Dropna\")\n",
    "sns.histplot(num_data.STheta.fillna(num_data.STheta.mean()), ax=ax[1])\n",
    "ax[1].set_title(\"Fillna with mean\")"
   ]
  },
  {
   "cell_type": "code",
   "execution_count": 31,
   "id": "d42bda6e",
   "metadata": {},
   "outputs": [],
   "source": [
    "#decide to fill in with mean as there is no spike to avoid\n",
    "num_data['STheta'] = num_data['STheta'].fillna(num_data['STheta'].mean())"
   ]
  },
  {
   "cell_type": "code",
   "execution_count": 32,
   "id": "33dd3d6a",
   "metadata": {},
   "outputs": [
    {
     "data": {
      "text/plain": [
       "Depthm    0\n",
       "T_degC    0\n",
       "Salnty    0\n",
       "O2ml_L    0\n",
       "STheta    0\n",
       "R_PRES    0\n",
       "dtype: int64"
      ]
     },
     "execution_count": 32,
     "metadata": {},
     "output_type": "execute_result"
    }
   ],
   "source": [
    "num_data.isnull().sum()"
   ]
  },
  {
   "cell_type": "code",
   "execution_count": 33,
   "id": "d2cc956f",
   "metadata": {},
   "outputs": [
    {
     "name": "stdout",
     "output_type": "stream",
     "text": [
      "No. of training examples: 529089\n",
      "No. of testing examples: 132400\n"
     ]
    }
   ],
   "source": [
    "split = (np.random.rand(len(num_data)) <= 0.8)\n",
    "training = num_data[split]\n",
    "testing = num_data[~split]\n",
    "\n",
    "print(f\"No. of training examples: {training.shape[0]}\")\n",
    "print(f\"No. of testing examples: {testing.shape[0]}\")"
   ]
  },
  {
   "cell_type": "code",
   "execution_count": 34,
   "id": "41eee868",
   "metadata": {},
   "outputs": [
    {
     "data": {
      "text/html": [
       "<div>\n",
       "<style scoped>\n",
       "    .dataframe tbody tr th:only-of-type {\n",
       "        vertical-align: middle;\n",
       "    }\n",
       "\n",
       "    .dataframe tbody tr th {\n",
       "        vertical-align: top;\n",
       "    }\n",
       "\n",
       "    .dataframe thead th {\n",
       "        text-align: right;\n",
       "    }\n",
       "</style>\n",
       "<table border=\"1\" class=\"dataframe\">\n",
       "  <thead>\n",
       "    <tr style=\"text-align: right;\">\n",
       "      <th></th>\n",
       "      <th>Depthm</th>\n",
       "      <th>T_degC</th>\n",
       "      <th>Salnty</th>\n",
       "      <th>O2ml_L</th>\n",
       "      <th>STheta</th>\n",
       "      <th>R_PRES</th>\n",
       "    </tr>\n",
       "  </thead>\n",
       "  <tbody>\n",
       "    <tr>\n",
       "      <th>count</th>\n",
       "      <td>529089.000000</td>\n",
       "      <td>529089.000000</td>\n",
       "      <td>529089.000000</td>\n",
       "      <td>529089.000000</td>\n",
       "      <td>529089.000000</td>\n",
       "      <td>529089.000000</td>\n",
       "    </tr>\n",
       "    <tr>\n",
       "      <th>mean</th>\n",
       "      <td>219.834200</td>\n",
       "      <td>10.921990</td>\n",
       "      <td>33.832972</td>\n",
       "      <td>3.416808</td>\n",
       "      <td>25.797386</td>\n",
       "      <td>221.313681</td>\n",
       "    </tr>\n",
       "    <tr>\n",
       "      <th>std</th>\n",
       "      <td>311.515941</td>\n",
       "      <td>4.228857</td>\n",
       "      <td>0.460365</td>\n",
       "      <td>2.069790</td>\n",
       "      <td>1.010037</td>\n",
       "      <td>314.916652</td>\n",
       "    </tr>\n",
       "    <tr>\n",
       "      <th>min</th>\n",
       "      <td>0.000000</td>\n",
       "      <td>1.440000</td>\n",
       "      <td>29.402000</td>\n",
       "      <td>-0.010000</td>\n",
       "      <td>20.996000</td>\n",
       "      <td>0.000000</td>\n",
       "    </tr>\n",
       "    <tr>\n",
       "      <th>25%</th>\n",
       "      <td>49.000000</td>\n",
       "      <td>7.810000</td>\n",
       "      <td>33.480000</td>\n",
       "      <td>1.400000</td>\n",
       "      <td>24.940000</td>\n",
       "      <td>49.000000</td>\n",
       "    </tr>\n",
       "    <tr>\n",
       "      <th>50%</th>\n",
       "      <td>125.000000</td>\n",
       "      <td>10.160000</td>\n",
       "      <td>33.853000</td>\n",
       "      <td>3.470000</td>\n",
       "      <td>25.970000</td>\n",
       "      <td>126.000000</td>\n",
       "    </tr>\n",
       "    <tr>\n",
       "      <th>75%</th>\n",
       "      <td>300.000000</td>\n",
       "      <td>14.020000</td>\n",
       "      <td>34.185000</td>\n",
       "      <td>5.520000</td>\n",
       "      <td>26.634000</td>\n",
       "      <td>302.000000</td>\n",
       "    </tr>\n",
       "    <tr>\n",
       "      <th>max</th>\n",
       "      <td>5351.000000</td>\n",
       "      <td>31.140000</td>\n",
       "      <td>37.034000</td>\n",
       "      <td>11.130000</td>\n",
       "      <td>27.954000</td>\n",
       "      <td>5458.000000</td>\n",
       "    </tr>\n",
       "  </tbody>\n",
       "</table>\n",
       "</div>"
      ],
      "text/plain": [
       "              Depthm         T_degC         Salnty         O2ml_L  \\\n",
       "count  529089.000000  529089.000000  529089.000000  529089.000000   \n",
       "mean      219.834200      10.921990      33.832972       3.416808   \n",
       "std       311.515941       4.228857       0.460365       2.069790   \n",
       "min         0.000000       1.440000      29.402000      -0.010000   \n",
       "25%        49.000000       7.810000      33.480000       1.400000   \n",
       "50%       125.000000      10.160000      33.853000       3.470000   \n",
       "75%       300.000000      14.020000      34.185000       5.520000   \n",
       "max      5351.000000      31.140000      37.034000      11.130000   \n",
       "\n",
       "              STheta         R_PRES  \n",
       "count  529089.000000  529089.000000  \n",
       "mean       25.797386     221.313681  \n",
       "std         1.010037     314.916652  \n",
       "min        20.996000       0.000000  \n",
       "25%        24.940000      49.000000  \n",
       "50%        25.970000     126.000000  \n",
       "75%        26.634000     302.000000  \n",
       "max        27.954000    5458.000000  "
      ]
     },
     "execution_count": 34,
     "metadata": {},
     "output_type": "execute_result"
    }
   ],
   "source": [
    "training.describe()"
   ]
  },
  {
   "cell_type": "code",
   "execution_count": 35,
   "id": "2df1b47b",
   "metadata": {},
   "outputs": [
    {
     "data": {
      "text/html": [
       "<div>\n",
       "<style scoped>\n",
       "    .dataframe tbody tr th:only-of-type {\n",
       "        vertical-align: middle;\n",
       "    }\n",
       "\n",
       "    .dataframe tbody tr th {\n",
       "        vertical-align: top;\n",
       "    }\n",
       "\n",
       "    .dataframe thead th {\n",
       "        text-align: right;\n",
       "    }\n",
       "</style>\n",
       "<table border=\"1\" class=\"dataframe\">\n",
       "  <thead>\n",
       "    <tr style=\"text-align: right;\">\n",
       "      <th></th>\n",
       "      <th>Depthm</th>\n",
       "      <th>T_degC</th>\n",
       "      <th>Salnty</th>\n",
       "      <th>O2ml_L</th>\n",
       "      <th>STheta</th>\n",
       "      <th>R_PRES</th>\n",
       "    </tr>\n",
       "  </thead>\n",
       "  <tbody>\n",
       "    <tr>\n",
       "      <th>count</th>\n",
       "      <td>132400.000000</td>\n",
       "      <td>132400.000000</td>\n",
       "      <td>132400.000000</td>\n",
       "      <td>132400.000000</td>\n",
       "      <td>132400.000000</td>\n",
       "      <td>132400.000000</td>\n",
       "    </tr>\n",
       "    <tr>\n",
       "      <th>mean</th>\n",
       "      <td>219.093142</td>\n",
       "      <td>10.906130</td>\n",
       "      <td>33.831523</td>\n",
       "      <td>3.416286</td>\n",
       "      <td>25.799864</td>\n",
       "      <td>220.565098</td>\n",
       "    </tr>\n",
       "    <tr>\n",
       "      <th>std</th>\n",
       "      <td>309.686689</td>\n",
       "      <td>4.208923</td>\n",
       "      <td>0.460254</td>\n",
       "      <td>2.064461</td>\n",
       "      <td>1.007056</td>\n",
       "      <td>313.076849</td>\n",
       "    </tr>\n",
       "    <tr>\n",
       "      <th>min</th>\n",
       "      <td>0.000000</td>\n",
       "      <td>1.460000</td>\n",
       "      <td>29.402000</td>\n",
       "      <td>-0.010000</td>\n",
       "      <td>21.511000</td>\n",
       "      <td>0.000000</td>\n",
       "    </tr>\n",
       "    <tr>\n",
       "      <th>25%</th>\n",
       "      <td>49.000000</td>\n",
       "      <td>7.800000</td>\n",
       "      <td>33.477000</td>\n",
       "      <td>1.419750</td>\n",
       "      <td>24.945000</td>\n",
       "      <td>49.000000</td>\n",
       "    </tr>\n",
       "    <tr>\n",
       "      <th>50%</th>\n",
       "      <td>125.000000</td>\n",
       "      <td>10.140000</td>\n",
       "      <td>33.853750</td>\n",
       "      <td>3.471000</td>\n",
       "      <td>25.978000</td>\n",
       "      <td>126.000000</td>\n",
       "    </tr>\n",
       "    <tr>\n",
       "      <th>75%</th>\n",
       "      <td>300.000000</td>\n",
       "      <td>13.980000</td>\n",
       "      <td>34.182000</td>\n",
       "      <td>5.510000</td>\n",
       "      <td>26.632000</td>\n",
       "      <td>301.000000</td>\n",
       "    </tr>\n",
       "    <tr>\n",
       "      <th>max</th>\n",
       "      <td>5351.000000</td>\n",
       "      <td>31.120000</td>\n",
       "      <td>36.633000</td>\n",
       "      <td>10.570000</td>\n",
       "      <td>28.083000</td>\n",
       "      <td>5458.000000</td>\n",
       "    </tr>\n",
       "  </tbody>\n",
       "</table>\n",
       "</div>"
      ],
      "text/plain": [
       "              Depthm         T_degC         Salnty         O2ml_L  \\\n",
       "count  132400.000000  132400.000000  132400.000000  132400.000000   \n",
       "mean      219.093142      10.906130      33.831523       3.416286   \n",
       "std       309.686689       4.208923       0.460254       2.064461   \n",
       "min         0.000000       1.460000      29.402000      -0.010000   \n",
       "25%        49.000000       7.800000      33.477000       1.419750   \n",
       "50%       125.000000      10.140000      33.853750       3.471000   \n",
       "75%       300.000000      13.980000      34.182000       5.510000   \n",
       "max      5351.000000      31.120000      36.633000      10.570000   \n",
       "\n",
       "              STheta         R_PRES  \n",
       "count  132400.000000  132400.000000  \n",
       "mean       25.799864     220.565098  \n",
       "std         1.007056     313.076849  \n",
       "min        21.511000       0.000000  \n",
       "25%        24.945000      49.000000  \n",
       "50%        25.978000     126.000000  \n",
       "75%        26.632000     301.000000  \n",
       "max        28.083000    5458.000000  "
      ]
     },
     "execution_count": 35,
     "metadata": {},
     "output_type": "execute_result"
    }
   ],
   "source": [
    "testing.describe()"
   ]
  },
  {
   "cell_type": "code",
   "execution_count": 36,
   "id": "404956dc",
   "metadata": {},
   "outputs": [
    {
     "data": {
      "text/plain": [
       "<AxesSubplot:>"
      ]
     },
     "execution_count": 36,
     "metadata": {},
     "output_type": "execute_result"
    },
    {
     "data": {
      "image/png": "[encoded data removed]",
      "text/plain": [
       "<Figure size 432x288 with 2 Axes>"
      ]
     },
     "metadata": {
      "needs_background": "light"
     },
     "output_type": "display_data"
    }
   ],
   "source": [
    "sns.heatmap(training.corr(), annot= True)"
   ]
  },
  {
   "cell_type": "code",
   "execution_count": 38,
   "id": "660937ee",
   "metadata": {},
   "outputs": [
    {
     "data": {
      "text/html": [
       "<div>\n",
       "<style scoped>\n",
       "    .dataframe tbody tr th:only-of-type {\n",
       "        vertical-align: middle;\n",
       "    }\n",
       "\n",
       "    .dataframe tbody tr th {\n",
       "        vertical-align: top;\n",
       "    }\n",
       "\n",
       "    .dataframe thead th {\n",
       "        text-align: right;\n",
       "    }\n",
       "</style>\n",
       "<table border=\"1\" class=\"dataframe\">\n",
       "  <thead>\n",
       "    <tr style=\"text-align: right;\">\n",
       "      <th></th>\n",
       "      <th>Depthm</th>\n",
       "      <th>T_degC</th>\n",
       "      <th>Salnty</th>\n",
       "      <th>O2ml_L</th>\n",
       "      <th>STheta</th>\n",
       "      <th>R_PRES</th>\n",
       "    </tr>\n",
       "  </thead>\n",
       "  <tbody>\n",
       "    <tr>\n",
       "      <th>2160</th>\n",
       "      <td>0</td>\n",
       "      <td>10.30</td>\n",
       "      <td>33.030</td>\n",
       "      <td>5.90</td>\n",
       "      <td>25.364</td>\n",
       "      <td>0</td>\n",
       "    </tr>\n",
       "    <tr>\n",
       "      <th>2161</th>\n",
       "      <td>6</td>\n",
       "      <td>18.46</td>\n",
       "      <td>32.920</td>\n",
       "      <td>6.02</td>\n",
       "      <td>23.568</td>\n",
       "      <td>6</td>\n",
       "    </tr>\n",
       "    <tr>\n",
       "      <th>2162</th>\n",
       "      <td>10</td>\n",
       "      <td>10.29</td>\n",
       "      <td>32.951</td>\n",
       "      <td>6.04</td>\n",
       "      <td>25.304</td>\n",
       "      <td>10</td>\n",
       "    </tr>\n",
       "    <tr>\n",
       "      <th>2163</th>\n",
       "      <td>15</td>\n",
       "      <td>10.29</td>\n",
       "      <td>32.990</td>\n",
       "      <td>6.06</td>\n",
       "      <td>25.335</td>\n",
       "      <td>15</td>\n",
       "    </tr>\n",
       "    <tr>\n",
       "      <th>2165</th>\n",
       "      <td>30</td>\n",
       "      <td>10.39</td>\n",
       "      <td>33.054</td>\n",
       "      <td>6.01</td>\n",
       "      <td>25.368</td>\n",
       "      <td>30</td>\n",
       "    </tr>\n",
       "  </tbody>\n",
       "</table>\n",
       "</div>"
      ],
      "text/plain": [
       "      Depthm  T_degC  Salnty  O2ml_L  STheta  R_PRES\n",
       "2160       0   10.30  33.030    5.90  25.364       0\n",
       "2161       6   18.46  32.920    6.02  23.568       6\n",
       "2162      10   10.29  32.951    6.04  25.304      10\n",
       "2163      15   10.29  32.990    6.06  25.335      15\n",
       "2165      30   10.39  33.054    6.01  25.368      30"
      ]
     },
     "execution_count": 38,
     "metadata": {},
     "output_type": "execute_result"
    }
   ],
   "source": [
    "training.head()"
   ]
  },
  {
   "cell_type": "code",
   "execution_count": 39,
   "id": "08121130",
   "metadata": {},
   "outputs": [],
   "source": [
    "import statsmodels.formula.api as smf\n",
    "import seaborn as sns\n",
    "import matplotlib.pyplot as plt\n",
    "ols_object = smf.ols(formula = 'T_degC~STheta', data = training)"
   ]
  },
  {
   "cell_type": "code",
   "execution_count": 40,
   "id": "1cfcd468",
   "metadata": {},
   "outputs": [],
   "source": [
    "import statsmodels.formula.api as smf\n",
    "import seaborn as sns\n",
    "import matplotlib.pyplot as plt\n",
    "ols_object = smf.ols(formula = 'T_degC~O2ml_L+Salnty+STheta', data = training)"
   ]
  },
  {
   "cell_type": "code",
   "execution_count": 41,
   "id": "75f3d5e6",
   "metadata": {},
   "outputs": [
    {
     "data": {
      "text/html": [
       "<table class=\"simpletable\">\n",
       "<caption>OLS Regression Results</caption>\n",
       "<tr>\n",
       "  <th>Dep. Variable:</th>         <td>T_degC</td>      <th>  R-squared:         </th>  <td>   0.986</td>  \n",
       "</tr>\n",
       "<tr>\n",
       "  <th>Model:</th>                   <td>OLS</td>       <th>  Adj. R-squared:    </th>  <td>   0.986</td>  \n",
       "</tr>\n",
       "<tr>\n",
       "  <th>Method:</th>             <td>Least Squares</td>  <th>  F-statistic:       </th>  <td>1.276e+07</td> \n",
       "</tr>\n",
       "<tr>\n",
       "  <th>Date:</th>             <td>Tue, 14 Mar 2023</td> <th>  Prob (F-statistic):</th>   <td>  0.00</td>   \n",
       "</tr>\n",
       "<tr>\n",
       "  <th>Time:</th>                 <td>23:48:37</td>     <th>  Log-Likelihood:    </th> <td>-3.7732e+05</td>\n",
       "</tr>\n",
       "<tr>\n",
       "  <th>No. Observations:</th>      <td>529089</td>      <th>  AIC:               </th>  <td>7.547e+05</td> \n",
       "</tr>\n",
       "<tr>\n",
       "  <th>Df Residuals:</th>          <td>529085</td>      <th>  BIC:               </th>  <td>7.547e+05</td> \n",
       "</tr>\n",
       "<tr>\n",
       "  <th>Df Model:</th>              <td>     3</td>      <th>                     </th>      <td> </td>     \n",
       "</tr>\n",
       "<tr>\n",
       "  <th>Covariance Type:</th>      <td>nonrobust</td>    <th>                     </th>      <td> </td>     \n",
       "</tr>\n",
       "</table>\n",
       "<table class=\"simpletable\">\n",
       "<tr>\n",
       "      <td></td>         <th>coef</th>     <th>std err</th>      <th>t</th>      <th>P>|t|</th>  <th>[0.025</th>    <th>0.975]</th>  \n",
       "</tr>\n",
       "<tr>\n",
       "  <th>Intercept</th> <td>   28.7862</td> <td>    0.104</td> <td>  278.127</td> <td> 0.000</td> <td>   28.583</td> <td>   28.989</td>\n",
       "</tr>\n",
       "<tr>\n",
       "  <th>O2ml_L</th>    <td>    0.0785</td> <td>    0.001</td> <td>   86.313</td> <td> 0.000</td> <td>    0.077</td> <td>    0.080</td>\n",
       "</tr>\n",
       "<tr>\n",
       "  <th>Salnty</th>    <td>    3.2154</td> <td>    0.003</td> <td> 1225.372</td> <td> 0.000</td> <td>    3.210</td> <td>    3.221</td>\n",
       "</tr>\n",
       "<tr>\n",
       "  <th>STheta</th>    <td>   -4.9198</td> <td>    0.001</td> <td>-3323.291</td> <td> 0.000</td> <td>   -4.923</td> <td>   -4.917</td>\n",
       "</tr>\n",
       "</table>\n",
       "<table class=\"simpletable\">\n",
       "<tr>\n",
       "  <th>Omnibus:</th>       <td>160368.667</td> <th>  Durbin-Watson:     </th>  <td>   0.290</td>  \n",
       "</tr>\n",
       "<tr>\n",
       "  <th>Prob(Omnibus):</th>   <td> 0.000</td>   <th>  Jarque-Bera (JB):  </th> <td>8664503.973</td>\n",
       "</tr>\n",
       "<tr>\n",
       "  <th>Skew:</th>            <td>-0.666</td>   <th>  Prob(JB):          </th>  <td>    0.00</td>  \n",
       "</tr>\n",
       "<tr>\n",
       "  <th>Kurtosis:</th>        <td>22.780</td>   <th>  Cond. No.          </th>  <td>6.51e+03</td>  \n",
       "</tr>\n",
       "</table><br/><br/>Notes:<br/>[1] Standard Errors assume that the covariance matrix of the errors is correctly specified.<br/>[2] The condition number is large, 6.51e+03. This might indicate that there are<br/>strong multicollinearity or other numerical problems."
      ],
      "text/plain": [
       "<class 'statsmodels.iolib.summary.Summary'>\n",
       "\"\"\"\n",
       "                            OLS Regression Results                            \n",
       "==============================================================================\n",
       "Dep. Variable:                 T_degC   R-squared:                       0.986\n",
       "Model:                            OLS   Adj. R-squared:                  0.986\n",
       "Method:                 Least Squares   F-statistic:                 1.276e+07\n",
       "Date:                Tue, 14 Mar 2023   Prob (F-statistic):               0.00\n",
       "Time:                        23:48:37   Log-Likelihood:            -3.7732e+05\n",
       "No. Observations:              529089   AIC:                         7.547e+05\n",
       "Df Residuals:                  529085   BIC:                         7.547e+05\n",
       "Df Model:                           3                                         \n",
       "Covariance Type:            nonrobust                                         \n",
       "==============================================================================\n",
       "                 coef    std err          t      P>|t|      [0.025      0.975]\n",
       "------------------------------------------------------------------------------\n",
       "Intercept     28.7862      0.104    278.127      0.000      28.583      28.989\n",
       "O2ml_L         0.0785      0.001     86.313      0.000       0.077       0.080\n",
       "Salnty         3.2154      0.003   1225.372      0.000       3.210       3.221\n",
       "STheta        -4.9198      0.001  -3323.291      0.000      -4.923      -4.917\n",
       "==============================================================================\n",
       "Omnibus:                   160368.667   Durbin-Watson:                   0.290\n",
       "Prob(Omnibus):                  0.000   Jarque-Bera (JB):          8664503.973\n",
       "Skew:                          -0.666   Prob(JB):                         0.00\n",
       "Kurtosis:                      22.780   Cond. No.                     6.51e+03\n",
       "==============================================================================\n",
       "\n",
       "Notes:\n",
       "[1] Standard Errors assume that the covariance matrix of the errors is correctly specified.\n",
       "[2] The condition number is large, 6.51e+03. This might indicate that there are\n",
       "strong multicollinearity or other numerical problems.\n",
       "\"\"\""
      ]
     },
     "execution_count": 41,
     "metadata": {},
     "output_type": "execute_result"
    }
   ],
   "source": [
    "model = ols_object.fit()\n",
    "model.summary()"
   ]
  },
  {
   "cell_type": "code",
   "execution_count": 42,
   "id": "91b2c940",
   "metadata": {},
   "outputs": [],
   "source": [
    "pred = model.predict(testing)"
   ]
  },
  {
   "cell_type": "code",
   "execution_count": 43,
   "id": "c234615d",
   "metadata": {},
   "outputs": [
    {
     "data": {
      "text/plain": [
       "Text(0, 0.5, 'Predicted Temp')"
      ]
     },
     "execution_count": 43,
     "metadata": {},
     "output_type": "execute_result"
    },
    {
     "data": {
      "image/png": "[encoded data removed]",
      "text/plain": [
       "<Figure size 432x288 with 1 Axes>"
      ]
     },
     "metadata": {
      "needs_background": "light"
     },
     "output_type": "display_data"
    }
   ],
   "source": [
    "sns.scatterplot(x = testing.T_degC, y = pred)\n",
    "#In case of a perfect prediction, all the points must lie on the line x = y.\n",
    "sns.lineplot(x = [0,testing.T_degC.max()], y = [0,testing.T_degC.max()],color='orange') #Plotting the line x = y.\n",
    "plt.xlabel('Actual Temp')\n",
    "plt.ylabel('Predicted Temp')"
   ]
  },
  {
   "cell_type": "code",
   "execution_count": 44,
   "id": "4e3ff258",
   "metadata": {},
   "outputs": [
    {
     "data": {
      "text/plain": [
       "0.4872407050137404"
      ]
     },
     "execution_count": 44,
     "metadata": {},
     "output_type": "execute_result"
    }
   ],
   "source": [
    "###RMSE\n",
    "np.sqrt(((testing.T_degC - pred)**2).mean())"
   ]
  },
  {
   "cell_type": "code",
   "execution_count": 45,
   "id": "34d1d9a0",
   "metadata": {},
   "outputs": [
    {
     "data": {
      "text/plain": [
       "0.49372521287707555"
      ]
     },
     "execution_count": 45,
     "metadata": {},
     "output_type": "execute_result"
    }
   ],
   "source": [
    "np.sqrt(model.mse_resid)"
   ]
  },
  {
   "cell_type": "code",
   "execution_count": 46,
   "id": "146f165e",
   "metadata": {},
   "outputs": [
    {
     "data": {
      "text/plain": [
       "Text(0, 0.5, 'Residual')"
      ]
     },
     "execution_count": 46,
     "metadata": {},
     "output_type": "execute_result"
    },
    {
     "data": {
      "image/png": "[encoded data removed]",
      "text/plain": [
       "<Figure size 432x288 with 1 Axes>"
      ]
     },
     "metadata": {
      "needs_background": "light"
     },
     "output_type": "display_data"
    }
   ],
   "source": [
    "sns.scatterplot(x = model.fittedvalues, y=model.resid,color = 'orange')\n",
    "sns.lineplot(x = [pred.min(),pred.max()],y = [0,0],color = 'blue')\n",
    "plt.xlabel('Predicted temperature')\n",
    "plt.ylabel('Residual')"
   ]
  },
  {
   "cell_type": "code",
   "execution_count": 47,
   "id": "e9134e57",
   "metadata": {},
   "outputs": [],
   "source": [
    "### end of multilinear regression model"
   ]
  },
  {
   "cell_type": "code",
   "execution_count": 48,
   "id": "c3d92fed",
   "metadata": {},
   "outputs": [],
   "source": [
    "### regression model "
   ]
  },
  {
   "cell_type": "code",
   "execution_count": 49,
   "id": "76bbdced",
   "metadata": {},
   "outputs": [
    {
     "data": {
      "text/html": [
       "<table class=\"simpletable\">\n",
       "<caption>OLS Regression Results</caption>\n",
       "<tr>\n",
       "  <th>Dep. Variable:</th>     <td>np.log(T_degC)</td>  <th>  R-squared:         </th>  <td>   0.875</td> \n",
       "</tr>\n",
       "<tr>\n",
       "  <th>Model:</th>                   <td>OLS</td>       <th>  Adj. R-squared:    </th>  <td>   0.875</td> \n",
       "</tr>\n",
       "<tr>\n",
       "  <th>Method:</th>             <td>Least Squares</td>  <th>  F-statistic:       </th>  <td>1.239e+06</td>\n",
       "</tr>\n",
       "<tr>\n",
       "  <th>Date:</th>             <td>Tue, 14 Mar 2023</td> <th>  Prob (F-statistic):</th>   <td>  0.00</td>  \n",
       "</tr>\n",
       "<tr>\n",
       "  <th>Time:</th>                 <td>23:48:38</td>     <th>  Log-Likelihood:    </th> <td>2.5582e+05</td>\n",
       "</tr>\n",
       "<tr>\n",
       "  <th>No. Observations:</th>      <td>529089</td>      <th>  AIC:               </th> <td>-5.116e+05</td>\n",
       "</tr>\n",
       "<tr>\n",
       "  <th>Df Residuals:</th>          <td>529085</td>      <th>  BIC:               </th> <td>-5.116e+05</td>\n",
       "</tr>\n",
       "<tr>\n",
       "  <th>Df Model:</th>              <td>     3</td>      <th>                     </th>      <td> </td>    \n",
       "</tr>\n",
       "<tr>\n",
       "  <th>Covariance Type:</th>      <td>nonrobust</td>    <th>                     </th>      <td> </td>    \n",
       "</tr>\n",
       "</table>\n",
       "<table class=\"simpletable\">\n",
       "<tr>\n",
       "      <td></td>         <th>coef</th>     <th>std err</th>      <th>t</th>      <th>P>|t|</th>  <th>[0.025</th>    <th>0.975]</th>  \n",
       "</tr>\n",
       "<tr>\n",
       "  <th>Intercept</th> <td>    9.3666</td> <td>    0.031</td> <td>  299.464</td> <td> 0.000</td> <td>    9.305</td> <td>    9.428</td>\n",
       "</tr>\n",
       "<tr>\n",
       "  <th>O2ml_L</th>    <td>   -0.0053</td> <td>    0.000</td> <td>  -19.143</td> <td> 0.000</td> <td>   -0.006</td> <td>   -0.005</td>\n",
       "</tr>\n",
       "<tr>\n",
       "  <th>Salnty</th>    <td>    0.1268</td> <td>    0.001</td> <td>  159.884</td> <td> 0.000</td> <td>    0.125</td> <td>    0.128</td>\n",
       "</tr>\n",
       "<tr>\n",
       "  <th>STheta</th>    <td>   -0.4392</td> <td>    0.000</td> <td> -981.626</td> <td> 0.000</td> <td>   -0.440</td> <td>   -0.438</td>\n",
       "</tr>\n",
       "</table>\n",
       "<table class=\"simpletable\">\n",
       "<tr>\n",
       "  <th>Omnibus:</th>       <td>316315.441</td> <th>  Durbin-Watson:     </th>  <td>   0.168</td>  \n",
       "</tr>\n",
       "<tr>\n",
       "  <th>Prob(Omnibus):</th>   <td> 0.000</td>   <th>  Jarque-Bera (JB):  </th> <td>4808201.811</td>\n",
       "</tr>\n",
       "<tr>\n",
       "  <th>Skew:</th>            <td>-2.611</td>   <th>  Prob(JB):          </th>  <td>    0.00</td>  \n",
       "</tr>\n",
       "<tr>\n",
       "  <th>Kurtosis:</th>        <td>16.815</td>   <th>  Cond. No.          </th>  <td>6.51e+03</td>  \n",
       "</tr>\n",
       "</table><br/><br/>Notes:<br/>[1] Standard Errors assume that the covariance matrix of the errors is correctly specified.<br/>[2] The condition number is large, 6.51e+03. This might indicate that there are<br/>strong multicollinearity or other numerical problems."
      ],
      "text/plain": [
       "<class 'statsmodels.iolib.summary.Summary'>\n",
       "\"\"\"\n",
       "                            OLS Regression Results                            \n",
       "==============================================================================\n",
       "Dep. Variable:         np.log(T_degC)   R-squared:                       0.875\n",
       "Model:                            OLS   Adj. R-squared:                  0.875\n",
       "Method:                 Least Squares   F-statistic:                 1.239e+06\n",
       "Date:                Tue, 14 Mar 2023   Prob (F-statistic):               0.00\n",
       "Time:                        23:48:38   Log-Likelihood:             2.5582e+05\n",
       "No. Observations:              529089   AIC:                        -5.116e+05\n",
       "Df Residuals:                  529085   BIC:                        -5.116e+05\n",
       "Df Model:                           3                                         \n",
       "Covariance Type:            nonrobust                                         \n",
       "==============================================================================\n",
       "                 coef    std err          t      P>|t|      [0.025      0.975]\n",
       "------------------------------------------------------------------------------\n",
       "Intercept      9.3666      0.031    299.464      0.000       9.305       9.428\n",
       "O2ml_L        -0.0053      0.000    -19.143      0.000      -0.006      -0.005\n",
       "Salnty         0.1268      0.001    159.884      0.000       0.125       0.128\n",
       "STheta        -0.4392      0.000   -981.626      0.000      -0.440      -0.438\n",
       "==============================================================================\n",
       "Omnibus:                   316315.441   Durbin-Watson:                   0.168\n",
       "Prob(Omnibus):                  0.000   Jarque-Bera (JB):          4808201.811\n",
       "Skew:                          -2.611   Prob(JB):                         0.00\n",
       "Kurtosis:                      16.815   Cond. No.                     6.51e+03\n",
       "==============================================================================\n",
       "\n",
       "Notes:\n",
       "[1] Standard Errors assume that the covariance matrix of the errors is correctly specified.\n",
       "[2] The condition number is large, 6.51e+03. This might indicate that there are\n",
       "strong multicollinearity or other numerical problems.\n",
       "\"\"\""
      ]
     },
     "execution_count": 49,
     "metadata": {},
     "output_type": "execute_result"
    }
   ],
   "source": [
    "import statsmodels.formula.api as sm\n",
    "import time\n",
    "import itertools\n",
    "\n",
    "model = sm.ols('np.log(T_degC)~O2ml_L+Salnty+STheta', data = training).fit()\n",
    "model.summary()"
   ]
  },
  {
   "cell_type": "code",
   "execution_count": 50,
   "id": "dbda8e21",
   "metadata": {},
   "outputs": [
    {
     "data": {
      "text/html": [
       "<div>\n",
       "<style scoped>\n",
       "    .dataframe tbody tr th:only-of-type {\n",
       "        vertical-align: middle;\n",
       "    }\n",
       "\n",
       "    .dataframe tbody tr th {\n",
       "        vertical-align: top;\n",
       "    }\n",
       "\n",
       "    .dataframe thead th {\n",
       "        text-align: right;\n",
       "    }\n",
       "</style>\n",
       "<table border=\"1\" class=\"dataframe\">\n",
       "  <thead>\n",
       "    <tr style=\"text-align: right;\">\n",
       "      <th></th>\n",
       "      <th>Depthm</th>\n",
       "      <th>T_degC</th>\n",
       "      <th>Salnty</th>\n",
       "      <th>O2ml_L</th>\n",
       "      <th>STheta</th>\n",
       "      <th>R_PRES</th>\n",
       "    </tr>\n",
       "  </thead>\n",
       "  <tbody>\n",
       "    <tr>\n",
       "      <th>2160</th>\n",
       "      <td>0</td>\n",
       "      <td>10.30</td>\n",
       "      <td>33.030</td>\n",
       "      <td>5.90</td>\n",
       "      <td>25.364</td>\n",
       "      <td>0</td>\n",
       "    </tr>\n",
       "    <tr>\n",
       "      <th>2161</th>\n",
       "      <td>6</td>\n",
       "      <td>18.46</td>\n",
       "      <td>32.920</td>\n",
       "      <td>6.02</td>\n",
       "      <td>23.568</td>\n",
       "      <td>6</td>\n",
       "    </tr>\n",
       "    <tr>\n",
       "      <th>2162</th>\n",
       "      <td>10</td>\n",
       "      <td>10.29</td>\n",
       "      <td>32.951</td>\n",
       "      <td>6.04</td>\n",
       "      <td>25.304</td>\n",
       "      <td>10</td>\n",
       "    </tr>\n",
       "    <tr>\n",
       "      <th>2163</th>\n",
       "      <td>15</td>\n",
       "      <td>10.29</td>\n",
       "      <td>32.990</td>\n",
       "      <td>6.06</td>\n",
       "      <td>25.335</td>\n",
       "      <td>15</td>\n",
       "    </tr>\n",
       "    <tr>\n",
       "      <th>2165</th>\n",
       "      <td>30</td>\n",
       "      <td>10.39</td>\n",
       "      <td>33.054</td>\n",
       "      <td>6.01</td>\n",
       "      <td>25.368</td>\n",
       "      <td>30</td>\n",
       "    </tr>\n",
       "  </tbody>\n",
       "</table>\n",
       "</div>"
      ],
      "text/plain": [
       "      Depthm  T_degC  Salnty  O2ml_L  STheta  R_PRES\n",
       "2160       0   10.30  33.030    5.90  25.364       0\n",
       "2161       6   18.46  32.920    6.02  23.568       6\n",
       "2162      10   10.29  32.951    6.04  25.304      10\n",
       "2163      15   10.29  32.990    6.06  25.335      15\n",
       "2165      30   10.39  33.054    6.01  25.368      30"
      ]
     },
     "execution_count": 50,
     "metadata": {},
     "output_type": "execute_result"
    }
   ],
   "source": [
    "training.head()"
   ]
  },
  {
   "cell_type": "code",
   "execution_count": 51,
   "id": "e3040119",
   "metadata": {},
   "outputs": [],
   "source": [
    "#Creating a set of predictors from which we need to find the best subset of predictors\n",
    "X = training[['Depthm','Salnty', 'O2ml_L','STheta']]"
   ]
  },
  {
   "cell_type": "code",
   "execution_count": 52,
   "id": "a5e34f24",
   "metadata": {},
   "outputs": [],
   "source": [
    "def processSubset(predictor_subset):\n",
    "    # Fit model on feature_set and calculate R-squared\n",
    "    model = sm.ols('np.log(T_degC)~' + '+'.join(predictor_subset),data = training).fit()\n",
    "    Rsquared = model.rsquared\n",
    "    return {\"model\":model, \"Rsquared\":Rsquared}"
   ]
  },
  {
   "cell_type": "code",
   "execution_count": 53,
   "id": "79d6b01f",
   "metadata": {},
   "outputs": [],
   "source": [
    "def getBest_model(k):\n",
    "    tic = time.time()\n",
    "    results = []\n",
    "    for combo in itertools.combinations(X.columns, k):\n",
    "        results.append(processSubset((list(combo))))\n",
    "\n",
    "    models = pd.DataFrame(results)\n",
    "\n",
    "    best_model = models.loc[models['Rsquared'].argmax()]\n",
    "    \n",
    "    toc = time.time()\n",
    "    print(\"Processed\", models.shape[0], \"models on\", k, \"predictors in\", (toc-tic), \"seconds.\")\n",
    "    return best_model"
   ]
  },
  {
   "cell_type": "code",
   "execution_count": 54,
   "id": "5f5aad46",
   "metadata": {},
   "outputs": [
    {
     "name": "stdout",
     "output_type": "stream",
     "text": [
      "Processed 4 models on 1 predictors in 0.37406420707702637 seconds.\n",
      "Processed 6 models on 2 predictors in 0.7449228763580322 seconds.\n",
      "Processed 4 models on 3 predictors in 0.6140580177307129 seconds.\n",
      "Processed 1 models on 4 predictors in 0.1777942180633545 seconds.\n",
      "Total elapsed time: 1.973823070526123 seconds.\n"
     ]
    }
   ],
   "source": [
    "models_best = pd.DataFrame(columns=[\"Rsquared\", \"model\"])\n",
    "\n",
    "tic = time.time()\n",
    "for i in range(1,1+X.shape[1]):\n",
    "    models_best.loc[i] = getBest_model(i)\n",
    "\n",
    "toc = time.time()\n",
    "print(\"Total elapsed time:\", (toc-tic), \"seconds.\")"
   ]
  },
  {
   "cell_type": "code",
   "execution_count": 55,
   "id": "49097903",
   "metadata": {},
   "outputs": [
    {
     "data": {
      "image/png": "[encoded data removed]",
      "text/plain": [
       "<Figure size 1440x720 with 4 Axes>"
      ]
     },
     "metadata": {
      "needs_background": "light"
     },
     "output_type": "display_data"
    }
   ],
   "source": [
    "def best_sub_plots():\n",
    "    plt.figure(figsize=(20,10))\n",
    "    plt.rcParams.update({'font.size': 18, 'lines.markersize': 10})\n",
    "\n",
    "    # Set up a 2x2 grid so we can look at 4 plots at once\n",
    "    plt.subplot(2, 2, 1)\n",
    "\n",
    "    # We will now plot a red dot to indicate the model with the largest adjusted R^2 statistic.\n",
    "    # The argmax() function can be used to identify the location of the maximum point of a vector\n",
    "    plt.plot(models_best[\"Rsquared\"])\n",
    "    plt.xlabel('# Predictors')\n",
    "    plt.ylabel('Rsquared')\n",
    "\n",
    "    # We will now plot a red dot to indicate the model with the largest adjusted R^2 statistic.\n",
    "    # The argmax() function can be used to identify the location of the maximum point of a vector\n",
    "\n",
    "    rsquared_adj = models_best.apply(lambda row: row[1].rsquared_adj, axis=1)\n",
    "\n",
    "    plt.subplot(2, 2, 2)\n",
    "    plt.plot(rsquared_adj)\n",
    "    plt.plot(1+rsquared_adj.argmax(), rsquared_adj.max(), \"or\")\n",
    "    plt.xlabel('# Predictors')\n",
    "    plt.ylabel('adjusted rsquared')\n",
    "\n",
    "    # We'll do the same for AIC and BIC, this time looking for the models with the SMALLEST statistic\n",
    "    aic = models_best.apply(lambda row: row[1].aic, axis=1)\n",
    "\n",
    "    plt.subplot(2, 2, 3)\n",
    "    plt.plot(aic)\n",
    "    plt.plot(1+aic.argmin(), aic.min(), \"or\")\n",
    "    plt.xlabel('# Predictors')\n",
    "    plt.ylabel('AIC')\n",
    "\n",
    "    bic = models_best.apply(lambda row: row[1].bic, axis=1)\n",
    "\n",
    "    plt.subplot(2, 2, 4)\n",
    "    plt.plot(bic)\n",
    "    plt.plot(1+bic.argmin(), bic.min(), \"or\")\n",
    "    plt.xlabel('# Predictors')\n",
    "    plt.ylabel('BIC')\n",
    "best_sub_plots()"
   ]
  },
  {
   "cell_type": "code",
   "execution_count": 56,
   "id": "14d167d9",
   "metadata": {},
   "outputs": [
    {
     "data": {
      "text/html": [
       "<table class=\"simpletable\">\n",
       "<caption>OLS Regression Results</caption>\n",
       "<tr>\n",
       "  <th>Dep. Variable:</th>     <td>np.log(T_degC)</td>  <th>  R-squared:         </th>  <td>   0.972</td> \n",
       "</tr>\n",
       "<tr>\n",
       "  <th>Model:</th>                   <td>OLS</td>       <th>  Adj. R-squared:    </th>  <td>   0.972</td> \n",
       "</tr>\n",
       "<tr>\n",
       "  <th>Method:</th>             <td>Least Squares</td>  <th>  F-statistic:       </th>  <td>4.510e+06</td>\n",
       "</tr>\n",
       "<tr>\n",
       "  <th>Date:</th>             <td>Tue, 14 Mar 2023</td> <th>  Prob (F-statistic):</th>   <td>  0.00</td>  \n",
       "</tr>\n",
       "<tr>\n",
       "  <th>Time:</th>                 <td>23:48:41</td>     <th>  Log-Likelihood:    </th> <td>6.4610e+05</td>\n",
       "</tr>\n",
       "<tr>\n",
       "  <th>No. Observations:</th>      <td>529089</td>      <th>  AIC:               </th> <td>-1.292e+06</td>\n",
       "</tr>\n",
       "<tr>\n",
       "  <th>Df Residuals:</th>          <td>529084</td>      <th>  BIC:               </th> <td>-1.292e+06</td>\n",
       "</tr>\n",
       "<tr>\n",
       "  <th>Df Model:</th>              <td>     4</td>      <th>                     </th>      <td> </td>    \n",
       "</tr>\n",
       "<tr>\n",
       "  <th>Covariance Type:</th>      <td>nonrobust</td>    <th>                     </th>      <td> </td>    \n",
       "</tr>\n",
       "</table>\n",
       "<table class=\"simpletable\">\n",
       "<tr>\n",
       "      <td></td>         <th>coef</th>     <th>std err</th>      <th>t</th>      <th>P>|t|</th>  <th>[0.025</th>    <th>0.975]</th>  \n",
       "</tr>\n",
       "<tr>\n",
       "  <th>Intercept</th> <td>    1.8662</td> <td>    0.016</td> <td>  116.801</td> <td> 0.000</td> <td>    1.835</td> <td>    1.897</td>\n",
       "</tr>\n",
       "<tr>\n",
       "  <th>Depthm</th>    <td>   -0.0006</td> <td> 4.34e-07</td> <td>-1335.759</td> <td> 0.000</td> <td>   -0.001</td> <td>   -0.001</td>\n",
       "</tr>\n",
       "<tr>\n",
       "  <th>Salnty</th>    <td>    0.2510</td> <td>    0.000</td> <td>  642.883</td> <td> 0.000</td> <td>    0.250</td> <td>    0.252</td>\n",
       "</tr>\n",
       "<tr>\n",
       "  <th>O2ml_L</th>    <td>    0.0221</td> <td>    0.000</td> <td>  166.261</td> <td> 0.000</td> <td>    0.022</td> <td>    0.022</td>\n",
       "</tr>\n",
       "<tr>\n",
       "  <th>STheta</th>    <td>   -0.3100</td> <td>    0.000</td> <td>-1320.613</td> <td> 0.000</td> <td>   -0.311</td> <td>   -0.310</td>\n",
       "</tr>\n",
       "</table>\n",
       "<table class=\"simpletable\">\n",
       "<tr>\n",
       "  <th>Omnibus:</th>       <td>188190.935</td> <th>  Durbin-Watson:     </th>   <td>   0.242</td>  \n",
       "</tr>\n",
       "<tr>\n",
       "  <th>Prob(Omnibus):</th>   <td> 0.000</td>   <th>  Jarque-Bera (JB):  </th> <td>10459448.072</td>\n",
       "</tr>\n",
       "<tr>\n",
       "  <th>Skew:</th>            <td> 0.925</td>   <th>  Prob(JB):          </th>   <td>    0.00</td>  \n",
       "</tr>\n",
       "<tr>\n",
       "  <th>Kurtosis:</th>        <td>24.703</td>   <th>  Cond. No.          </th>   <td>6.23e+04</td>  \n",
       "</tr>\n",
       "</table><br/><br/>Notes:<br/>[1] Standard Errors assume that the covariance matrix of the errors is correctly specified.<br/>[2] The condition number is large, 6.23e+04. This might indicate that there are<br/>strong multicollinearity or other numerical problems."
      ],
      "text/plain": [
       "<class 'statsmodels.iolib.summary.Summary'>\n",
       "\"\"\"\n",
       "                            OLS Regression Results                            \n",
       "==============================================================================\n",
       "Dep. Variable:         np.log(T_degC)   R-squared:                       0.972\n",
       "Model:                            OLS   Adj. R-squared:                  0.972\n",
       "Method:                 Least Squares   F-statistic:                 4.510e+06\n",
       "Date:                Tue, 14 Mar 2023   Prob (F-statistic):               0.00\n",
       "Time:                        23:48:41   Log-Likelihood:             6.4610e+05\n",
       "No. Observations:              529089   AIC:                        -1.292e+06\n",
       "Df Residuals:                  529084   BIC:                        -1.292e+06\n",
       "Df Model:                           4                                         \n",
       "Covariance Type:            nonrobust                                         \n",
       "==============================================================================\n",
       "                 coef    std err          t      P>|t|      [0.025      0.975]\n",
       "------------------------------------------------------------------------------\n",
       "Intercept      1.8662      0.016    116.801      0.000       1.835       1.897\n",
       "Depthm        -0.0006   4.34e-07  -1335.759      0.000      -0.001      -0.001\n",
       "Salnty         0.2510      0.000    642.883      0.000       0.250       0.252\n",
       "O2ml_L         0.0221      0.000    166.261      0.000       0.022       0.022\n",
       "STheta        -0.3100      0.000  -1320.613      0.000      -0.311      -0.310\n",
       "==============================================================================\n",
       "Omnibus:                   188190.935   Durbin-Watson:                   0.242\n",
       "Prob(Omnibus):                  0.000   Jarque-Bera (JB):         10459448.072\n",
       "Skew:                           0.925   Prob(JB):                         0.00\n",
       "Kurtosis:                      24.703   Cond. No.                     6.23e+04\n",
       "==============================================================================\n",
       "\n",
       "Notes:\n",
       "[1] Standard Errors assume that the covariance matrix of the errors is correctly specified.\n",
       "[2] The condition number is large, 6.23e+04. This might indicate that there are\n",
       "strong multicollinearity or other numerical problems.\n",
       "\"\"\""
      ]
     },
     "execution_count": 56,
     "metadata": {},
     "output_type": "execute_result"
    }
   ],
   "source": [
    "best = models_best.loc[4,'model']\n",
    "models_best.loc[4,'model'].summary()"
   ]
  },
  {
   "cell_type": "code",
   "execution_count": 57,
   "id": "29980fd6",
   "metadata": {},
   "outputs": [
    {
     "data": {
      "text/plain": [
       "0.9730568446300785"
      ]
     },
     "execution_count": 57,
     "metadata": {},
     "output_type": "execute_result"
    }
   ],
   "source": [
    "pred = np.exp(best.predict(testing))\n",
    "np.sqrt(((pred - testing.T_degC)**2).mean())"
   ]
  },
  {
   "cell_type": "code",
   "execution_count": 58,
   "id": "3a4fcabb",
   "metadata": {},
   "outputs": [
    {
     "data": {
      "text/plain": [
       "0.9730568446300785"
      ]
     },
     "execution_count": 58,
     "metadata": {},
     "output_type": "execute_result"
    }
   ],
   "source": [
    "model = sm.ols('np.log(T_degC)~' + '+'.join(X.columns),data = training).fit()\n",
    "pred = np.exp(model.predict(testing))\n",
    "np.sqrt(((pred - testing.T_degC)**2).mean())"
   ]
  },
  {
   "cell_type": "code",
   "execution_count": 59,
   "id": "f4ae4887",
   "metadata": {},
   "outputs": [],
   "source": [
    "##same because the optimal model uses all the columns"
   ]
  },
  {
   "cell_type": "code",
   "execution_count": 60,
   "id": "2b460ee4",
   "metadata": {},
   "outputs": [],
   "source": [
    "X = training[['Depthm','Salnty', 'O2ml_L','STheta']]\n",
    "#Since 'X' will change when we include interactions, we need a backup \n",
    "X_backup = training[['Depthm','Salnty', 'O2ml_L','STheta']]"
   ]
  },
  {
   "cell_type": "code",
   "execution_count": 61,
   "id": "59217720",
   "metadata": {},
   "outputs": [
    {
     "name": "stderr",
     "output_type": "stream",
     "text": [
      "/var/folders/lh/3llxfnrj023ch1zt6kktj70c0000gn/T/ipykernel_17069/2212980609.py:2: SettingWithCopyWarning: \n",
      "A value is trying to be set on a copy of a slice from a DataFrame.\n",
      "Try using .loc[row_indexer,col_indexer] = value instead\n",
      "\n",
      "See the caveats in the documentation: https://pandas.pydata.org/pandas-docs/stable/user_guide/indexing.html#returning-a-view-versus-a-copy\n",
      "  training['_'.join(combo)] = training[combo[0]]*training[combo[1]]\n",
      "/var/folders/lh/3llxfnrj023ch1zt6kktj70c0000gn/T/ipykernel_17069/2212980609.py:3: SettingWithCopyWarning: \n",
      "A value is trying to be set on a copy of a slice from a DataFrame.\n",
      "Try using .loc[row_indexer,col_indexer] = value instead\n",
      "\n",
      "See the caveats in the documentation: https://pandas.pydata.org/pandas-docs/stable/user_guide/indexing.html#returning-a-view-versus-a-copy\n",
      "  testing['_'.join(combo)] = testing[combo[0]]*testing[combo[1]]\n",
      "/Users/nbirova/opt/anaconda3/lib/python3.9/site-packages/pandas/core/indexing.py:1667: SettingWithCopyWarning: \n",
      "A value is trying to be set on a copy of a slice from a DataFrame.\n",
      "Try using .loc[row_indexer,col_indexer] = value instead\n",
      "\n",
      "See the caveats in the documentation: https://pandas.pydata.org/pandas-docs/stable/user_guide/indexing.html#returning-a-view-versus-a-copy\n",
      "  self.obj[key] = value\n"
     ]
    }
   ],
   "source": [
    "for combo in itertools.combinations(X_backup.columns, 2):    \n",
    "    training['_'.join(combo)] = training[combo[0]]*training[combo[1]]\n",
    "    testing['_'.join(combo)] = testing[combo[0]]*testing[combo[1]]\n",
    "    X.loc[:,'_'.join(combo)] = training.loc[:,'_'.join(combo)] "
   ]
  },
  {
   "cell_type": "code",
   "execution_count": 62,
   "id": "c23ed284",
   "metadata": {},
   "outputs": [],
   "source": [
    "models_best = pd.DataFrame(columns=[\"Rsquared\", \"model\"])"
   ]
  },
  {
   "cell_type": "code",
   "execution_count": 63,
   "id": "5b5aa3f6",
   "metadata": {},
   "outputs": [],
   "source": [
    "#attempted to do best subsets with two-factor interactions, however the kernel keeps dying "
   ]
  },
  {
   "cell_type": "code",
   "execution_count": 64,
   "id": "4a295f47",
   "metadata": {},
   "outputs": [],
   "source": [
    "#stepwise (forward) selection"
   ]
  },
  {
   "cell_type": "code",
   "execution_count": 65,
   "id": "ff108fa6",
   "metadata": {},
   "outputs": [],
   "source": [
    "def forward(predictors):\n",
    "    remaining_predictors = [p for p in X.columns if p not in predictors]\n",
    "    tic = time.time()\n",
    "    results = []\n",
    "    \n",
    "    for p in remaining_predictors:\n",
    "        results.append(processSubset(predictors+[p]))\n",
    "    \n",
    "    models = pd.DataFrame(results)\n",
    "    best_model = models.loc[models['Rsquared'].argmax()]\n",
    "    \n",
    "    toc = time.time()\n",
    "    print(\"Processed \", models.shape[0], \"models on\", len(predictors)+1, \"predictors in\", (toc-tic), \"seconds.\")\n",
    "    return best_model"
   ]
  },
  {
   "cell_type": "code",
   "execution_count": 66,
   "id": "34e890ac",
   "metadata": {},
   "outputs": [],
   "source": [
    "def forward_selection():\n",
    "    models_best = pd.DataFrame(columns=[\"Rsquared\", \"model\"])\n",
    "\n",
    "    tic = time.time()\n",
    "    predictors = []\n",
    "\n",
    "    for i in range(1,len(X.columns)+1):    \n",
    "        models_best.loc[i] = forward(predictors)\n",
    "        predictors = list(models_best.loc[i][\"model\"].params.index[1:])\n",
    "\n",
    "    toc = time.time()\n",
    "    print(\"Total elapsed time:\", (toc-tic), \"seconds.\")\n",
    "    return models_best"
   ]
  },
  {
   "cell_type": "code",
   "execution_count": 67,
   "id": "5a7c63b2",
   "metadata": {},
   "outputs": [
    {
     "name": "stdout",
     "output_type": "stream",
     "text": [
      "Processed  10 models on 1 predictors in 0.9289960861206055 seconds.\n",
      "Processed  9 models on 2 predictors in 1.0864150524139404 seconds.\n",
      "Processed  8 models on 3 predictors in 1.1875009536743164 seconds.\n",
      "Processed  7 models on 4 predictors in 1.2220149040222168 seconds.\n",
      "Processed  6 models on 5 predictors in 1.1951630115509033 seconds.\n",
      "Processed  5 models on 6 predictors in 1.293855905532837 seconds.\n",
      "Processed  4 models on 7 predictors in 1.1340899467468262 seconds.\n",
      "Processed  3 models on 8 predictors in 0.9621419906616211 seconds.\n",
      "Processed  2 models on 9 predictors in 0.7360548973083496 seconds.\n",
      "Processed  1 models on 10 predictors in 0.4292440414428711 seconds.\n",
      "Total elapsed time: 10.493994235992432 seconds.\n"
     ]
    }
   ],
   "source": [
    "models_best = forward_selection()"
   ]
  },
  {
   "cell_type": "code",
   "execution_count": 68,
   "id": "ee8e1f49",
   "metadata": {},
   "outputs": [
    {
     "data": {
      "image/png": "[encoded data removed]",
      "text/plain": [
       "<Figure size 1440x720 with 4 Axes>"
      ]
     },
     "metadata": {
      "needs_background": "light"
     },
     "output_type": "display_data"
    }
   ],
   "source": [
    "best_sub_plots()"
   ]
  },
  {
   "cell_type": "code",
   "execution_count": 69,
   "id": "4ab3b1b9",
   "metadata": {},
   "outputs": [
    {
     "data": {
      "text/html": [
       "<table class=\"simpletable\">\n",
       "<caption>OLS Regression Results</caption>\n",
       "<tr>\n",
       "  <th>Dep. Variable:</th>     <td>np.log(T_degC)</td>  <th>  R-squared:         </th>  <td>   0.991</td> \n",
       "</tr>\n",
       "<tr>\n",
       "  <th>Model:</th>                   <td>OLS</td>       <th>  Adj. R-squared:    </th>  <td>   0.991</td> \n",
       "</tr>\n",
       "<tr>\n",
       "  <th>Method:</th>             <td>Least Squares</td>  <th>  F-statistic:       </th>  <td>5.989e+06</td>\n",
       "</tr>\n",
       "<tr>\n",
       "  <th>Date:</th>             <td>Tue, 14 Mar 2023</td> <th>  Prob (F-statistic):</th>   <td>  0.00</td>  \n",
       "</tr>\n",
       "<tr>\n",
       "  <th>Time:</th>                 <td>23:48:53</td>     <th>  Log-Likelihood:    </th> <td>9.5821e+05</td>\n",
       "</tr>\n",
       "<tr>\n",
       "  <th>No. Observations:</th>      <td>529089</td>      <th>  AIC:               </th> <td>-1.916e+06</td>\n",
       "</tr>\n",
       "<tr>\n",
       "  <th>Df Residuals:</th>          <td>529078</td>      <th>  BIC:               </th> <td>-1.916e+06</td>\n",
       "</tr>\n",
       "<tr>\n",
       "  <th>Df Model:</th>              <td>    10</td>      <th>                     </th>      <td> </td>    \n",
       "</tr>\n",
       "<tr>\n",
       "  <th>Covariance Type:</th>      <td>nonrobust</td>    <th>                     </th>      <td> </td>    \n",
       "</tr>\n",
       "</table>\n",
       "<table class=\"simpletable\">\n",
       "<tr>\n",
       "        <td></td>           <th>coef</th>     <th>std err</th>      <th>t</th>      <th>P>|t|</th>  <th>[0.025</th>    <th>0.975]</th>  \n",
       "</tr>\n",
       "<tr>\n",
       "  <th>Intercept</th>     <td>   41.7816</td> <td>    0.235</td> <td>  177.834</td> <td> 0.000</td> <td>   41.321</td> <td>   42.242</td>\n",
       "</tr>\n",
       "<tr>\n",
       "  <th>STheta</th>        <td>   -1.8104</td> <td>    0.009</td> <td> -193.876</td> <td> 0.000</td> <td>   -1.829</td> <td>   -1.792</td>\n",
       "</tr>\n",
       "<tr>\n",
       "  <th>Depthm_STheta</th> <td>   -0.0007</td> <td> 1.35e-06</td> <td> -548.590</td> <td> 0.000</td> <td>   -0.001</td> <td>   -0.001</td>\n",
       "</tr>\n",
       "<tr>\n",
       "  <th>Salnty_STheta</th> <td>    0.0433</td> <td>    0.000</td> <td>  160.969</td> <td> 0.000</td> <td>    0.043</td> <td>    0.044</td>\n",
       "</tr>\n",
       "<tr>\n",
       "  <th>Depthm_O2ml_L</th> <td> 6.628e-05</td> <td> 2.59e-07</td> <td>  256.127</td> <td> 0.000</td> <td> 6.58e-05</td> <td> 6.68e-05</td>\n",
       "</tr>\n",
       "<tr>\n",
       "  <th>Salnty</th>        <td>   -0.9013</td> <td>    0.007</td> <td> -132.887</td> <td> 0.000</td> <td>   -0.915</td> <td>   -0.888</td>\n",
       "</tr>\n",
       "<tr>\n",
       "  <th>Depthm_Salnty</th> <td>    0.0014</td> <td> 2.62e-06</td> <td>  525.790</td> <td> 0.000</td> <td>    0.001</td> <td>    0.001</td>\n",
       "</tr>\n",
       "<tr>\n",
       "  <th>Depthm</th>        <td>   -0.0279</td> <td> 6.32e-05</td> <td> -441.440</td> <td> 0.000</td> <td>   -0.028</td> <td>   -0.028</td>\n",
       "</tr>\n",
       "<tr>\n",
       "  <th>O2ml_L_STheta</th> <td>    0.0118</td> <td>    0.000</td> <td>  113.459</td> <td> 0.000</td> <td>    0.012</td> <td>    0.012</td>\n",
       "</tr>\n",
       "<tr>\n",
       "  <th>Salnty_O2ml_L</th> <td>   -0.0053</td> <td>    0.000</td> <td>  -36.839</td> <td> 0.000</td> <td>   -0.006</td> <td>   -0.005</td>\n",
       "</tr>\n",
       "<tr>\n",
       "  <th>O2ml_L</th>        <td>   -0.1102</td> <td>    0.005</td> <td>  -23.201</td> <td> 0.000</td> <td>   -0.120</td> <td>   -0.101</td>\n",
       "</tr>\n",
       "</table>\n",
       "<table class=\"simpletable\">\n",
       "<tr>\n",
       "  <th>Omnibus:</th>       <td>642811.213</td> <th>  Durbin-Watson:     </th>    <td>   0.415</td>    \n",
       "</tr>\n",
       "<tr>\n",
       "  <th>Prob(Omnibus):</th>   <td> 0.000</td>   <th>  Jarque-Bera (JB):  </th> <td>13139778096.097</td>\n",
       "</tr>\n",
       "<tr>\n",
       "  <th>Skew:</th>            <td>-4.976</td>   <th>  Prob(JB):          </th>    <td>    0.00</td>    \n",
       "</tr>\n",
       "<tr>\n",
       "  <th>Kurtosis:</th>        <td>774.968</td>  <th>  Cond. No.          </th>    <td>7.26e+07</td>    \n",
       "</tr>\n",
       "</table><br/><br/>Notes:<br/>[1] Standard Errors assume that the covariance matrix of the errors is correctly specified.<br/>[2] The condition number is large, 7.26e+07. This might indicate that there are<br/>strong multicollinearity or other numerical problems."
      ],
      "text/plain": [
       "<class 'statsmodels.iolib.summary.Summary'>\n",
       "\"\"\"\n",
       "                            OLS Regression Results                            \n",
       "==============================================================================\n",
       "Dep. Variable:         np.log(T_degC)   R-squared:                       0.991\n",
       "Model:                            OLS   Adj. R-squared:                  0.991\n",
       "Method:                 Least Squares   F-statistic:                 5.989e+06\n",
       "Date:                Tue, 14 Mar 2023   Prob (F-statistic):               0.00\n",
       "Time:                        23:48:53   Log-Likelihood:             9.5821e+05\n",
       "No. Observations:              529089   AIC:                        -1.916e+06\n",
       "Df Residuals:                  529078   BIC:                        -1.916e+06\n",
       "Df Model:                          10                                         \n",
       "Covariance Type:            nonrobust                                         \n",
       "=================================================================================\n",
       "                    coef    std err          t      P>|t|      [0.025      0.975]\n",
       "---------------------------------------------------------------------------------\n",
       "Intercept        41.7816      0.235    177.834      0.000      41.321      42.242\n",
       "STheta           -1.8104      0.009   -193.876      0.000      -1.829      -1.792\n",
       "Depthm_STheta    -0.0007   1.35e-06   -548.590      0.000      -0.001      -0.001\n",
       "Salnty_STheta     0.0433      0.000    160.969      0.000       0.043       0.044\n",
       "Depthm_O2ml_L  6.628e-05   2.59e-07    256.127      0.000    6.58e-05    6.68e-05\n",
       "Salnty           -0.9013      0.007   -132.887      0.000      -0.915      -0.888\n",
       "Depthm_Salnty     0.0014   2.62e-06    525.790      0.000       0.001       0.001\n",
       "Depthm           -0.0279   6.32e-05   -441.440      0.000      -0.028      -0.028\n",
       "O2ml_L_STheta     0.0118      0.000    113.459      0.000       0.012       0.012\n",
       "Salnty_O2ml_L    -0.0053      0.000    -36.839      0.000      -0.006      -0.005\n",
       "O2ml_L           -0.1102      0.005    -23.201      0.000      -0.120      -0.101\n",
       "==============================================================================\n",
       "Omnibus:                   642811.213   Durbin-Watson:                   0.415\n",
       "Prob(Omnibus):                  0.000   Jarque-Bera (JB):      13139778096.097\n",
       "Skew:                          -4.976   Prob(JB):                         0.00\n",
       "Kurtosis:                     774.968   Cond. No.                     7.26e+07\n",
       "==============================================================================\n",
       "\n",
       "Notes:\n",
       "[1] Standard Errors assume that the covariance matrix of the errors is correctly specified.\n",
       "[2] The condition number is large, 7.26e+07. This might indicate that there are\n",
       "strong multicollinearity or other numerical problems.\n",
       "\"\"\""
      ]
     },
     "execution_count": 69,
     "metadata": {},
     "output_type": "execute_result"
    }
   ],
   "source": [
    "best_fwd_reg_model = models_best['model'][10]\n",
    "best_fwd_reg_model.summary()"
   ]
  },
  {
   "cell_type": "code",
   "execution_count": 70,
   "id": "125db49d",
   "metadata": {},
   "outputs": [
    {
     "data": {
      "text/plain": [
       "0.5224526150946452"
      ]
     },
     "execution_count": 70,
     "metadata": {},
     "output_type": "execute_result"
    }
   ],
   "source": [
    "pred_price = np.exp(best_fwd_reg_model.predict(testing))\n",
    "np.sqrt(((pred_price - testing.T_degC)**2).mean())"
   ]
  },
  {
   "cell_type": "code",
   "execution_count": 71,
   "id": "662e91fb",
   "metadata": {},
   "outputs": [],
   "source": [
    "import statsmodels.formula.api as smf\n",
    "import seaborn as sns\n",
    "import matplotlib.pyplot as plt\n",
    "ols_object = smf.ols(formula = 'T_degC~STheta', data = training)"
   ]
  },
  {
   "cell_type": "code",
   "execution_count": 72,
   "id": "83b9a9aa",
   "metadata": {},
   "outputs": [
    {
     "data": {
      "text/html": [
       "<table class=\"simpletable\">\n",
       "<caption>OLS Regression Results</caption>\n",
       "<tr>\n",
       "  <th>Dep. Variable:</th>         <td>T_degC</td>      <th>  R-squared:         </th>  <td>   0.929</td>  \n",
       "</tr>\n",
       "<tr>\n",
       "  <th>Model:</th>                   <td>OLS</td>       <th>  Adj. R-squared:    </th>  <td>   0.929</td>  \n",
       "</tr>\n",
       "<tr>\n",
       "  <th>Method:</th>             <td>Least Squares</td>  <th>  F-statistic:       </th>  <td>6.937e+06</td> \n",
       "</tr>\n",
       "<tr>\n",
       "  <th>Date:</th>             <td>Tue, 14 Mar 2023</td> <th>  Prob (F-statistic):</th>   <td>  0.00</td>   \n",
       "</tr>\n",
       "<tr>\n",
       "  <th>Time:</th>                 <td>23:48:53</td>     <th>  Log-Likelihood:    </th> <td>-8.1341e+05</td>\n",
       "</tr>\n",
       "<tr>\n",
       "  <th>No. Observations:</th>      <td>529089</td>      <th>  AIC:               </th>  <td>1.627e+06</td> \n",
       "</tr>\n",
       "<tr>\n",
       "  <th>Df Residuals:</th>          <td>529087</td>      <th>  BIC:               </th>  <td>1.627e+06</td> \n",
       "</tr>\n",
       "<tr>\n",
       "  <th>Df Model:</th>              <td>     1</td>      <th>                     </th>      <td> </td>     \n",
       "</tr>\n",
       "<tr>\n",
       "  <th>Covariance Type:</th>      <td>nonrobust</td>    <th>                     </th>      <td> </td>     \n",
       "</tr>\n",
       "</table>\n",
       "<table class=\"simpletable\">\n",
       "<tr>\n",
       "      <td></td>         <th>coef</th>     <th>std err</th>      <th>t</th>      <th>P>|t|</th>  <th>[0.025</th>    <th>0.975]</th>  \n",
       "</tr>\n",
       "<tr>\n",
       "  <th>Intercept</th> <td>  115.0339</td> <td>    0.040</td> <td> 2907.884</td> <td> 0.000</td> <td>  114.956</td> <td>  115.111</td>\n",
       "</tr>\n",
       "<tr>\n",
       "  <th>STheta</th>    <td>   -4.0358</td> <td>    0.002</td> <td>-2633.809</td> <td> 0.000</td> <td>   -4.039</td> <td>   -4.033</td>\n",
       "</tr>\n",
       "</table>\n",
       "<table class=\"simpletable\">\n",
       "<tr>\n",
       "  <th>Omnibus:</th>       <td>152052.375</td> <th>  Durbin-Watson:     </th>  <td>   0.116</td> \n",
       "</tr>\n",
       "<tr>\n",
       "  <th>Prob(Omnibus):</th>   <td> 0.000</td>   <th>  Jarque-Bera (JB):  </th> <td>844898.080</td>\n",
       "</tr>\n",
       "<tr>\n",
       "  <th>Skew:</th>            <td> 1.274</td>   <th>  Prob(JB):          </th>  <td>    0.00</td> \n",
       "</tr>\n",
       "<tr>\n",
       "  <th>Kurtosis:</th>        <td> 8.642</td>   <th>  Cond. No.          </th>  <td>    661.</td> \n",
       "</tr>\n",
       "</table><br/><br/>Notes:<br/>[1] Standard Errors assume that the covariance matrix of the errors is correctly specified."
      ],
      "text/plain": [
       "<class 'statsmodels.iolib.summary.Summary'>\n",
       "\"\"\"\n",
       "                            OLS Regression Results                            \n",
       "==============================================================================\n",
       "Dep. Variable:                 T_degC   R-squared:                       0.929\n",
       "Model:                            OLS   Adj. R-squared:                  0.929\n",
       "Method:                 Least Squares   F-statistic:                 6.937e+06\n",
       "Date:                Tue, 14 Mar 2023   Prob (F-statistic):               0.00\n",
       "Time:                        23:48:53   Log-Likelihood:            -8.1341e+05\n",
       "No. Observations:              529089   AIC:                         1.627e+06\n",
       "Df Residuals:                  529087   BIC:                         1.627e+06\n",
       "Df Model:                           1                                         \n",
       "Covariance Type:            nonrobust                                         \n",
       "==============================================================================\n",
       "                 coef    std err          t      P>|t|      [0.025      0.975]\n",
       "------------------------------------------------------------------------------\n",
       "Intercept    115.0339      0.040   2907.884      0.000     114.956     115.111\n",
       "STheta        -4.0358      0.002  -2633.809      0.000      -4.039      -4.033\n",
       "==============================================================================\n",
       "Omnibus:                   152052.375   Durbin-Watson:                   0.116\n",
       "Prob(Omnibus):                  0.000   Jarque-Bera (JB):           844898.080\n",
       "Skew:                           1.274   Prob(JB):                         0.00\n",
       "Kurtosis:                       8.642   Cond. No.                         661.\n",
       "==============================================================================\n",
       "\n",
       "Notes:\n",
       "[1] Standard Errors assume that the covariance matrix of the errors is correctly specified.\n",
       "\"\"\""
      ]
     },
     "execution_count": 72,
     "metadata": {},
     "output_type": "execute_result"
    }
   ],
   "source": [
    "model = ols_object.fit()\n",
    "model.summary()"
   ]
  }
 ],
 "metadata": {
  "kernelspec": {
   "display_name": "Python 3 (ipykernel)",
   "language": "python",
   "name": "python3"
  },
  "language_info": {
   "codemirror_mode": {
    "name": "ipython",
    "version": 3
   },
   "file_extension": ".py",
   "mimetype": "text/x-python",
   "name": "python",
   "nbconvert_exporter": "python",
   "pygments_lexer": "ipython3",
   "version": "3.9.7"
  }
 },
 "nbformat": 4,
 "nbformat_minor": 5
}
